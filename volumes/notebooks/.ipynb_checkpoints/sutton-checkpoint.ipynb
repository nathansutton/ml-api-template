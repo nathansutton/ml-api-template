{
 "cells": [
  {
   "cell_type": "code",
   "execution_count": 20,
   "id": "a0dcdd57",
   "metadata": {
    "scrolled": true
   },
   "outputs": [],
   "source": [
    "# basics\n",
    "import numpy as np \n",
    "import pandas as pd \n",
    "import os\n",
    "import sklearn\n",
    "import warnings\n",
    "import random\n",
    "\n",
    "# plots\n",
    "import seaborn as sns \n",
    "import matplotlib.pyplot as plt \n",
    "\n",
    "# databases\n",
    "from sqlalchemy import create_engine\n",
    "\n",
    "# sklearn\n",
    "from sklearn.impute import SimpleImputer\n",
    "from sklearn.preprocessing import OneHotEncoder, MinMaxScaler\n",
    "from sklearn.pipeline import Pipeline\n",
    "from sklearn.compose import ColumnTransformer\n",
    "from sklearn.model_selection import GridSearchCV\n",
    "from sklearn.linear_model import LogisticRegression\n",
    "from sklearn.ensemble import GradientBoostingClassifier\n",
    "from sklearn.metrics import confusion_matrix, precision_recall_curve, roc_auc_score\n",
    "import pickle\n",
    "\n",
    "# like i'm 5\n",
    "import eli5"
   ]
  },
  {
   "cell_type": "code",
   "execution_count": 21,
   "id": "8b63a33c",
   "metadata": {},
   "outputs": [],
   "source": [
    "# i know understand it's a pain to get feature names out of column tranformers\n",
    "# https://johaupt.github.io/blog/columnTransformer_feature_names.html\n",
    "def get_feature_names(column_transformer):\n",
    "    \"\"\"Get feature names from all transformers.\n",
    "    Returns\n",
    "    -------\n",
    "    feature_names : list of strings\n",
    "        Names of the features produced by transform.\n",
    "    \"\"\"\n",
    "    # Remove the internal helper function\n",
    "    #check_is_fitted(column_transformer)\n",
    "    \n",
    "    # Turn loopkup into function for better handling with pipeline later\n",
    "    def get_names(trans):\n",
    "        # >> Original get_feature_names() method\n",
    "        if trans == 'drop' or (\n",
    "                hasattr(column, '__len__') and not len(column)):\n",
    "            return []\n",
    "        if trans == 'passthrough':\n",
    "            if hasattr(column_transformer, '_df_columns'):\n",
    "                if ((not isinstance(column, slice))\n",
    "                        and all(isinstance(col, str) for col in column)):\n",
    "                    return column\n",
    "                else:\n",
    "                    return column_transformer._df_columns[column]\n",
    "            else:\n",
    "                indices = np.arange(column_transformer._n_features)\n",
    "                return ['x%d' % i for i in indices[column]]\n",
    "        if not hasattr(trans, 'get_feature_names'):\n",
    "        # >>> Change: Return input column names if no method avaiable\n",
    "            # Turn error into a warning\n",
    "            warnings.warn(\"Transformer %s (type %s) does not \"\n",
    "                                 \"provide get_feature_names. \"\n",
    "                                 \"Will return input column names if available\"\n",
    "                                 % (str(name), type(trans).__name__))\n",
    "            # For transformers without a get_features_names method, use the input\n",
    "            # names to the column transformer\n",
    "            if column is None:\n",
    "                return []\n",
    "            else:\n",
    "                return [name + \"__\" + f for f in column]\n",
    "\n",
    "        return [name + \"__\" + f for f in trans.get_feature_names()]\n",
    "    \n",
    "    ### Start of processing\n",
    "    feature_names = []\n",
    "    \n",
    "    # Allow transformers to be pipelines. Pipeline steps are named differently, so preprocessing is needed\n",
    "    if type(column_transformer) == sklearn.pipeline.Pipeline:\n",
    "        l_transformers = [(name, trans, None, None) for step, name, trans in column_transformer._iter()]\n",
    "    else:\n",
    "        # For column transformers, follow the original method\n",
    "        l_transformers = list(column_transformer._iter(fitted=True))\n",
    "    \n",
    "    \n",
    "    for name, trans, column, _ in l_transformers: \n",
    "        if type(trans) == sklearn.pipeline.Pipeline:\n",
    "            # Recursive call on pipeline\n",
    "            _names = get_feature_names(trans)\n",
    "            # if pipeline has no transformer that returns names\n",
    "            if len(_names)==0:\n",
    "                _names = [name + \"__\" + f for f in column]\n",
    "            feature_names.extend(_names)\n",
    "        else:\n",
    "            feature_names.extend(get_names(trans))\n",
    "    \n",
    "    return feature_names\n"
   ]
  },
  {
   "cell_type": "markdown",
   "id": "066b7e5f",
   "metadata": {},
   "source": [
    "## Exploratory Analysis"
   ]
  },
  {
   "cell_type": "code",
   "execution_count": 49,
   "id": "0664d752",
   "metadata": {},
   "outputs": [],
   "source": [
    "# read in the data\n",
    "dt = pd.read_csv(\"/opt/static/births.csv\")"
   ]
  },
  {
   "cell_type": "code",
   "execution_count": 23,
   "id": "b3bc5b52",
   "metadata": {},
   "outputs": [],
   "source": [
    "# connect to the database just in case\n",
    "PGHOST = os.environ[\"PGHOST\"]\n",
    "PGUSER = os.environ[\"PGUSER\"]\n",
    "PGPASSWORD = os.environ[\"PGPASSWORD\"]\n",
    "PGPORT = os.environ[\"PGPORT\"]\n",
    "PGDATABASE = os.environ[\"PGDATABASE\"]\n",
    "engine = create_engine(\"postgresql://{}:{}@{}:{}/{}\".format(PGUSER,PGPASSWORD,PGHOST,PGPORT,PGDATABASE))\n",
    "# upload the final data to a relational database\n",
    "# dt.to_sql(\"dt\", engine, index = False)"
   ]
  },
  {
   "cell_type": "code",
   "execution_count": 50,
   "id": "8024d5ee",
   "metadata": {},
   "outputs": [
    {
     "name": "stdout",
     "output_type": "stream",
     "text": [
      "<class 'pandas.core.frame.DataFrame'>\n",
      "RangeIndex: 3096936 entries, 0 to 3096935\n",
      "Data columns (total 6 columns):\n",
      " #   Column                        Dtype \n",
      "---  ------                        ----- \n",
      " 0   age_group                     object\n",
      " 1   reported_race_ethnicity       object\n",
      " 2   previous_births               object\n",
      " 3   tobacco_use_during_pregnancy  object\n",
      " 4   adequate_prenatal_care        object\n",
      " 5   preterm_indicator             int64 \n",
      "dtypes: int64(1), object(5)\n",
      "memory usage: 141.8+ MB\n"
     ]
    }
   ],
   "source": [
    "# high level types\n",
    "dt.info()"
   ]
  },
  {
   "cell_type": "code",
   "execution_count": 51,
   "id": "07c7eb7e",
   "metadata": {},
   "outputs": [
    {
     "data": {
      "text/plain": [
       "3096344"
      ]
     },
     "execution_count": 51,
     "metadata": {},
     "output_type": "execute_result"
    }
   ],
   "source": [
    "# are there any true duplicates\n",
    "dupes = dt[dt.duplicated()]\n",
    "dupes.shape[0]"
   ]
  },
  {
   "cell_type": "code",
   "execution_count": 52,
   "id": "c7bc80cd",
   "metadata": {},
   "outputs": [
    {
     "data": {
      "text/html": [
       "<div>\n",
       "<style scoped>\n",
       "    .dataframe tbody tr th:only-of-type {\n",
       "        vertical-align: middle;\n",
       "    }\n",
       "\n",
       "    .dataframe tbody tr th {\n",
       "        vertical-align: top;\n",
       "    }\n",
       "\n",
       "    .dataframe thead th {\n",
       "        text-align: right;\n",
       "    }\n",
       "</style>\n",
       "<table border=\"1\" class=\"dataframe\">\n",
       "  <thead>\n",
       "    <tr style=\"text-align: right;\">\n",
       "      <th></th>\n",
       "      <th>age_group</th>\n",
       "      <th>reported_race_ethnicity</th>\n",
       "      <th>previous_births</th>\n",
       "      <th>tobacco_use_during_pregnancy</th>\n",
       "      <th>adequate_prenatal_care</th>\n",
       "      <th>preterm_indicator</th>\n",
       "    </tr>\n",
       "  </thead>\n",
       "  <tbody>\n",
       "    <tr>\n",
       "      <th>0</th>\n",
       "      <td>Under 15 yrs</td>\n",
       "      <td>White, non-Hispanic</td>\n",
       "      <td>None</td>\n",
       "      <td>Yes</td>\n",
       "      <td>Inadequate</td>\n",
       "      <td>0</td>\n",
       "    </tr>\n",
       "    <tr>\n",
       "      <th>1</th>\n",
       "      <td>Under 15 yrs</td>\n",
       "      <td>White, non-Hispanic</td>\n",
       "      <td>None</td>\n",
       "      <td>Yes</td>\n",
       "      <td>Inadequate</td>\n",
       "      <td>0</td>\n",
       "    </tr>\n",
       "    <tr>\n",
       "      <th>2</th>\n",
       "      <td>Under 15 yrs</td>\n",
       "      <td>White, non-Hispanic</td>\n",
       "      <td>None</td>\n",
       "      <td>Yes</td>\n",
       "      <td>Inadequate</td>\n",
       "      <td>0</td>\n",
       "    </tr>\n",
       "    <tr>\n",
       "      <th>3</th>\n",
       "      <td>Under 15 yrs</td>\n",
       "      <td>White, non-Hispanic</td>\n",
       "      <td>None</td>\n",
       "      <td>Yes</td>\n",
       "      <td>Inadequate</td>\n",
       "      <td>0</td>\n",
       "    </tr>\n",
       "    <tr>\n",
       "      <th>4</th>\n",
       "      <td>Under 15 yrs</td>\n",
       "      <td>White, non-Hispanic</td>\n",
       "      <td>None</td>\n",
       "      <td>Yes</td>\n",
       "      <td>Inadequate</td>\n",
       "      <td>0</td>\n",
       "    </tr>\n",
       "  </tbody>\n",
       "</table>\n",
       "</div>"
      ],
      "text/plain": [
       "      age_group reported_race_ethnicity previous_births  \\\n",
       "0  Under 15 yrs     White, non-Hispanic            None   \n",
       "1  Under 15 yrs     White, non-Hispanic            None   \n",
       "2  Under 15 yrs     White, non-Hispanic            None   \n",
       "3  Under 15 yrs     White, non-Hispanic            None   \n",
       "4  Under 15 yrs     White, non-Hispanic            None   \n",
       "\n",
       "  tobacco_use_during_pregnancy adequate_prenatal_care  preterm_indicator  \n",
       "0                          Yes             Inadequate                  0  \n",
       "1                          Yes             Inadequate                  0  \n",
       "2                          Yes             Inadequate                  0  \n",
       "3                          Yes             Inadequate                  0  \n",
       "4                          Yes             Inadequate                  0  "
      ]
     },
     "execution_count": 52,
     "metadata": {},
     "output_type": "execute_result"
    }
   ],
   "source": [
    "# what does it look like\n",
    "dt.head()"
   ]
  },
  {
   "cell_type": "code",
   "execution_count": 54,
   "id": "6093b128",
   "metadata": {},
   "outputs": [
    {
     "data": {
      "text/plain": [
       "count    3.096936e+06\n",
       "mean     9.220274e-02\n",
       "std      2.893120e-01\n",
       "min      0.000000e+00\n",
       "25%      0.000000e+00\n",
       "50%      0.000000e+00\n",
       "75%      0.000000e+00\n",
       "max      1.000000e+00\n",
       "Name: preterm_indicator, dtype: float64"
      ]
     },
     "execution_count": 54,
     "metadata": {},
     "output_type": "execute_result"
    }
   ],
   "source": [
    "# describe the thing you're trying to predict\n",
    "outcome = \"preterm_indicator\"\n",
    "dt[outcome].describe()"
   ]
  },
  {
   "cell_type": "code",
   "execution_count": 55,
   "id": "faad2c7d",
   "metadata": {},
   "outputs": [
    {
     "data": {
      "text/plain": [
       "0.09220274490657863"
      ]
     },
     "execution_count": 55,
     "metadata": {},
     "output_type": "execute_result"
    }
   ],
   "source": [
    "# what is the prevalance of thing we're trying to predict\n",
    "dt[outcome].sum() / dt.shape[0]"
   ]
  },
  {
   "cell_type": "code",
   "execution_count": 56,
   "id": "e21e3b0c",
   "metadata": {},
   "outputs": [
    {
     "data": {
      "text/plain": [
       "['previous_births',\n",
       " 'reported_race_ethnicity',\n",
       " 'age_group',\n",
       " 'tobacco_use_during_pregnancy',\n",
       " 'adequate_prenatal_care']"
      ]
     },
     "execution_count": 56,
     "metadata": {},
     "output_type": "execute_result"
    }
   ],
   "source": [
    "# what are the relevant features, remove identifiers and target variables\n",
    "features = list(set(dt.columns).difference(set([outcome,\"Id\"])))\n",
    "features"
   ]
  },
  {
   "cell_type": "code",
   "execution_count": 57,
   "id": "56f2feee",
   "metadata": {},
   "outputs": [
    {
     "data": {
      "text/plain": [
       "[]"
      ]
     },
     "execution_count": 57,
     "metadata": {},
     "output_type": "execute_result"
    }
   ],
   "source": [
    "# break out into numeric features and categorical features\n",
    "numerics = dt[features].select_dtypes(include='number').columns.tolist()\n",
    "numerics"
   ]
  },
  {
   "cell_type": "code",
   "execution_count": 58,
   "id": "5ac94f49",
   "metadata": {},
   "outputs": [
    {
     "data": {
      "text/plain": [
       "['previous_births',\n",
       " 'reported_race_ethnicity',\n",
       " 'age_group',\n",
       " 'tobacco_use_during_pregnancy',\n",
       " 'adequate_prenatal_care']"
      ]
     },
     "execution_count": 58,
     "metadata": {},
     "output_type": "execute_result"
    }
   ],
   "source": [
    "categoricals = dt[features].select_dtypes(exclude='number').columns.tolist()\n",
    "categoricals"
   ]
  },
  {
   "cell_type": "code",
   "execution_count": 32,
   "id": "bb6de77f",
   "metadata": {},
   "outputs": [],
   "source": [
    "# univariate boxplot of each feaure in isolation\n",
    "if len(numerics) > 0:\n",
    "    dt[numerics].boxplot(grid=False, vert=False,fontsize=15, figsize=(12,10))"
   ]
  },
  {
   "cell_type": "code",
   "execution_count": 33,
   "id": "d1baee20",
   "metadata": {},
   "outputs": [],
   "source": [
    "# look at each histogram in isolution\n",
    "if len(numerics) > 0:\n",
    "    for col in numerics:\n",
    "        dt[[col]].hist()"
   ]
  },
  {
   "cell_type": "code",
   "execution_count": 34,
   "id": "41dfe773",
   "metadata": {},
   "outputs": [],
   "source": [
    "# how are these feature correlated with each other\n",
    "if len(numerics) > 0:\n",
    "    sns.heatmap(dt[numerics].corr(), annot=True)"
   ]
  },
  {
   "cell_type": "code",
   "execution_count": 35,
   "id": "37cddcc9",
   "metadata": {
    "scrolled": true
   },
   "outputs": [],
   "source": [
    "# how are the missing values correlated to each other\n",
    "if len(numerics) > 0:\n",
    "    sns.heatmap(dt[numerics].isna().corr(), annot=True)"
   ]
  },
  {
   "cell_type": "code",
   "execution_count": 36,
   "id": "d41e823e",
   "metadata": {},
   "outputs": [
    {
     "data": {
      "text/plain": [
       "{'previous_births': 2,\n",
       " 'reported_race_ethnicity': 4,\n",
       " 'age_group': 10,\n",
       " 'tobacco_use_during_pregnancy': 2,\n",
       " 'adequate_prenatal_care': 2}"
      ]
     },
     "execution_count": 36,
     "metadata": {},
     "output_type": "execute_result"
    }
   ],
   "source": [
    "# categorical feature cardinality\n",
    "cardinality = {}\n",
    "for item in categoricals:\n",
    "    cardinality[item] = len(dt[item].unique())\n",
    "cardinality    "
   ]
  },
  {
   "cell_type": "code",
   "execution_count": 37,
   "id": "20be4c4a",
   "metadata": {},
   "outputs": [
    {
     "data": {
      "text/plain": [
       "['previous_births',\n",
       " 'reported_race_ethnicity',\n",
       " 'age_group',\n",
       " 'tobacco_use_during_pregnancy',\n",
       " 'adequate_prenatal_care']"
      ]
     },
     "execution_count": 37,
     "metadata": {},
     "output_type": "execute_result"
    }
   ],
   "source": [
    "# things that aren't features\n",
    "dates = [x for x in cardinality.keys() if \"date\" in x]\n",
    "categoricals = list(set(categoricals).difference(set(dates)))\n",
    "\n",
    "# the final features are the less cardinal categories\n",
    "categoricals = list(set(categoricals).difference(set([\"city\"])))\n",
    "categoricals"
   ]
  },
  {
   "cell_type": "markdown",
   "id": "7983974d",
   "metadata": {},
   "source": [
    "## Training and Validation Regions"
   ]
  },
  {
   "cell_type": "code",
   "execution_count": 38,
   "id": "062c0dc5",
   "metadata": {},
   "outputs": [
    {
     "data": {
      "text/plain": [
       "0"
      ]
     },
     "execution_count": 38,
     "metadata": {},
     "output_type": "execute_result"
    }
   ],
   "source": [
    "# globally remove any instance where the outcome is unknown\n",
    "if dt[outcome].isna().sum() > 0:\n",
    "    dt = dt[~dt[outcome].isna()]\n",
    "dt[outcome].isna().sum()"
   ]
  },
  {
   "cell_type": "code",
   "execution_count": 39,
   "id": "baa3a7cf",
   "metadata": {},
   "outputs": [
    {
     "data": {
      "text/plain": [
       "0.0"
      ]
     },
     "execution_count": 39,
     "metadata": {},
     "output_type": "execute_result"
    }
   ],
   "source": [
    "# are the rows iid\n",
    "dt[\"id\"] = dt.index\n",
    "identifier = \"id\"\n",
    "dt[[identifier]].duplicated().sum() / dt.shape[0]"
   ]
  },
  {
   "cell_type": "code",
   "execution_count": 21,
   "id": "1739e84a",
   "metadata": {},
   "outputs": [
    {
     "ename": "KeyboardInterrupt",
     "evalue": "",
     "output_type": "error",
     "traceback": [
      "\u001b[0;31m---------------------------------------------------------------------------\u001b[0m",
      "\u001b[0;31mKeyboardInterrupt\u001b[0m                         Traceback (most recent call last)",
      "Input \u001b[0;32mIn [21]\u001b[0m, in \u001b[0;36m<cell line: 10>\u001b[0;34m()\u001b[0m\n\u001b[1;32m      7\u001b[0m train \u001b[38;5;241m=\u001b[39m [x \u001b[38;5;28;01mfor\u001b[39;00m i, x \u001b[38;5;129;01min\u001b[39;00m \u001b[38;5;28menumerate\u001b[39m(patients) \u001b[38;5;28;01mif\u001b[39;00m i \u001b[38;5;241m%\u001b[39m \u001b[38;5;241m10\u001b[39m \u001b[38;5;241m<\u001b[39m \u001b[38;5;241m6\u001b[39m]\n\u001b[1;32m      9\u001b[0m \u001b[38;5;66;03m# who is left\u001b[39;00m\n\u001b[0;32m---> 10\u001b[0m remainder \u001b[38;5;241m=\u001b[39m [x \u001b[38;5;28;01mfor\u001b[39;00m x \u001b[38;5;129;01min\u001b[39;00m patients \u001b[38;5;28;01mif\u001b[39;00m x \u001b[38;5;129;01mnot\u001b[39;00m \u001b[38;5;129;01min\u001b[39;00m train]\n\u001b[1;32m     12\u001b[0m \u001b[38;5;66;03m# split the rest in half\u001b[39;00m\n\u001b[1;32m     13\u001b[0m valid \u001b[38;5;241m=\u001b[39m [x \u001b[38;5;28;01mfor\u001b[39;00m i, x \u001b[38;5;129;01min\u001b[39;00m \u001b[38;5;28menumerate\u001b[39m(remainder) \u001b[38;5;28;01mif\u001b[39;00m i \u001b[38;5;241m%\u001b[39m \u001b[38;5;241m2\u001b[39m \u001b[38;5;241m==\u001b[39m \u001b[38;5;241m0\u001b[39m]\n",
      "Input \u001b[0;32mIn [21]\u001b[0m, in \u001b[0;36m<listcomp>\u001b[0;34m(.0)\u001b[0m\n\u001b[1;32m      7\u001b[0m train \u001b[38;5;241m=\u001b[39m [x \u001b[38;5;28;01mfor\u001b[39;00m i, x \u001b[38;5;129;01min\u001b[39;00m \u001b[38;5;28menumerate\u001b[39m(patients) \u001b[38;5;28;01mif\u001b[39;00m i \u001b[38;5;241m%\u001b[39m \u001b[38;5;241m10\u001b[39m \u001b[38;5;241m<\u001b[39m \u001b[38;5;241m6\u001b[39m]\n\u001b[1;32m      9\u001b[0m \u001b[38;5;66;03m# who is left\u001b[39;00m\n\u001b[0;32m---> 10\u001b[0m remainder \u001b[38;5;241m=\u001b[39m [x \u001b[38;5;28;01mfor\u001b[39;00m x \u001b[38;5;129;01min\u001b[39;00m patients \u001b[38;5;28;01mif\u001b[39;00m x \u001b[38;5;129;01mnot\u001b[39;00m \u001b[38;5;129;01min\u001b[39;00m train]\n\u001b[1;32m     12\u001b[0m \u001b[38;5;66;03m# split the rest in half\u001b[39;00m\n\u001b[1;32m     13\u001b[0m valid \u001b[38;5;241m=\u001b[39m [x \u001b[38;5;28;01mfor\u001b[39;00m i, x \u001b[38;5;129;01min\u001b[39;00m \u001b[38;5;28menumerate\u001b[39m(remainder) \u001b[38;5;28;01mif\u001b[39;00m i \u001b[38;5;241m%\u001b[39m \u001b[38;5;241m2\u001b[39m \u001b[38;5;241m==\u001b[39m \u001b[38;5;241m0\u001b[39m]\n",
      "\u001b[0;31mKeyboardInterrupt\u001b[0m: "
     ]
    }
   ],
   "source": [
    "# they are not iid, so let's split into three disjoint sets (60,20,20)\n",
    "# this is terribly inefficient but ok today\n",
    "patients = list(dt[identifier].unique()) \n",
    "random.seed(54231)\n",
    "random.shuffle(patients)\n",
    "\n",
    "# take 60% for the training set\n",
    "train = [x for i, x in enumerate(patients) if i % 10 < 6]\n",
    "\n",
    "# who is left\n",
    "remainder = [x for x in patients if x not in train]\n",
    "\n",
    "# split the rest in half\n",
    "valid = [x for i, x in enumerate(remainder) if i % 2 == 0]\n",
    "test =  [x for x in remainder if x not in valid]"
   ]
  },
  {
   "cell_type": "code",
   "execution_count": 66,
   "id": "e902298e",
   "metadata": {},
   "outputs": [],
   "source": [
    "from sklearn.model_selection import train_test_split\n",
    "X_train,X_test,y_train,y_test = train_test_split(dt[features],dt[outcome],test_size=0.4)\n",
    "X_test,X_valid,y_test,y_valid = train_test_split(X_test,y_test,test_size=0.5)"
   ]
  },
  {
   "cell_type": "code",
   "execution_count": 67,
   "id": "0406c70e",
   "metadata": {},
   "outputs": [
    {
     "data": {
      "text/plain": [
       "0.0924236382100367"
      ]
     },
     "execution_count": 67,
     "metadata": {},
     "output_type": "execute_result"
    }
   ],
   "source": [
    "y_test.sum() / len(y_test)"
   ]
  },
  {
   "cell_type": "code",
   "execution_count": 68,
   "id": "1a3dbb79",
   "metadata": {},
   "outputs": [
    {
     "data": {
      "text/plain": [
       "0.09202378050125903"
      ]
     },
     "execution_count": 68,
     "metadata": {},
     "output_type": "execute_result"
    }
   ],
   "source": [
    "y_train.sum() / len(y_train)"
   ]
  },
  {
   "cell_type": "code",
   "execution_count": 69,
   "id": "1862e553",
   "metadata": {},
   "outputs": [
    {
     "data": {
      "text/plain": [
       "0.030839631226788206"
      ]
     },
     "execution_count": 69,
     "metadata": {},
     "output_type": "execute_result"
    }
   ],
   "source": [
    "y_valid.sum() / len(y_train)"
   ]
  },
  {
   "cell_type": "code",
   "execution_count": 43,
   "id": "affdaf7f",
   "metadata": {},
   "outputs": [
    {
     "ename": "NameError",
     "evalue": "name 'train' is not defined",
     "output_type": "error",
     "traceback": [
      "\u001b[0;31m---------------------------------------------------------------------------\u001b[0m",
      "\u001b[0;31mNameError\u001b[0m                                 Traceback (most recent call last)",
      "Input \u001b[0;32mIn [43]\u001b[0m, in \u001b[0;36m<cell line: 9>\u001b[0;34m()\u001b[0m\n\u001b[1;32m      6\u001b[0m     \u001b[38;5;28;01mif\u001b[39;00m \u001b[38;5;28mlen\u001b[39m(\u001b[38;5;28mset\u001b[39m(valid)\u001b[38;5;241m.\u001b[39mintersection(\u001b[38;5;28mset\u001b[39m(test))) \u001b[38;5;241m>\u001b[39m \u001b[38;5;241m0\u001b[39m:\n\u001b[1;32m      7\u001b[0m         \u001b[38;5;28;01mraise\u001b[39;00m \u001b[38;5;167;01mException\u001b[39;00m(\u001b[38;5;124m\"\u001b[39m\u001b[38;5;124moverlapping patients\u001b[39m\u001b[38;5;124m\"\u001b[39m)\n\u001b[0;32m----> 9\u001b[0m check_overlap(\u001b[43mtrain\u001b[49m, valid, test)\n",
      "\u001b[0;31mNameError\u001b[0m: name 'train' is not defined"
     ]
    }
   ],
   "source": [
    "def check_overlap(train: list, valid: list, test: list) -> None:\n",
    "    if len(set(train).intersection(set(test))) > 0:\n",
    "        raise Exception(\"overlapping patients\")\n",
    "    if len(set(train).intersection(set(valid))) > 0:\n",
    "        raise Exception(\"overlapping patients\")\n",
    "    if len(set(valid).intersection(set(test))) > 0:\n",
    "        raise Exception(\"overlapping patients\")\n",
    "        \n",
    "check_overlap(train, valid, test)"
   ]
  },
  {
   "cell_type": "code",
   "execution_count": null,
   "id": "32242896",
   "metadata": {},
   "outputs": [],
   "source": []
  },
  {
   "cell_type": "code",
   "execution_count": null,
   "id": "07d2e063",
   "metadata": {},
   "outputs": [],
   "source": [
    "# split into distinct regions\n",
    "X_train = dt.loc[dt[identifier].isin(train), features]\n",
    "y_train = dt.loc[dt[identifier].isin(train), outcome]\n",
    "X_test = dt.loc[dt[identifier].isin(test), features]\n",
    "y_test = dt.loc[dt[identifier].isin(test), outcome]\n",
    "X_valid = dt.loc[dt[identifier].isin(valid), features]\n",
    "y_valid = dt.loc[dt[identifier].isin(valid), outcome]\n",
    "{\n",
    "    \"train\": X_train.shape[0] / dt.shape[0],\n",
    "    \"valid\": X_valid.shape[0] / dt.shape[0],\n",
    "    \"test\": X_test.shape[0] / dt.shape[0],\n",
    "}"
   ]
  },
  {
   "cell_type": "markdown",
   "id": "29862ac6",
   "metadata": {},
   "source": [
    "## Feature pipeline"
   ]
  },
  {
   "cell_type": "code",
   "execution_count": 70,
   "id": "b0f9a8a7",
   "metadata": {},
   "outputs": [],
   "source": [
    "# now that we're roughly iid, simple pipelines transformation\n",
    "num_pipeline = Pipeline(steps=[\n",
    "    ('imputer', SimpleImputer(strategy='median')),\n",
    "    ('scaler', MinMaxScaler())\n",
    "])\n",
    "\n",
    "# it's ok to one-hot the less cardinal things\n",
    "cat_pipeline = Pipeline(steps=[\n",
    "    ('imputer', SimpleImputer(strategy='most_frequent')),\n",
    "    ('encoder', OneHotEncoder(handle_unknown='ignore'))\n",
    "])\n",
    "\n",
    "# combine them together into a single pipeline\n",
    "feature_pipeline = ColumnTransformer(transformers=[\n",
    "    ('numerics', num_pipeline, numerics),\n",
    "    ('categoricals', cat_pipeline, categoricals)\n",
    "])"
   ]
  },
  {
   "cell_type": "markdown",
   "id": "a28a053c",
   "metadata": {},
   "source": [
    "## Lasso"
   ]
  },
  {
   "cell_type": "code",
   "execution_count": 71,
   "id": "e6ba62b7",
   "metadata": {},
   "outputs": [],
   "source": [
    "# i always build a linear model first\n",
    "lm = LogisticRegression(penalty=\"l1\",solver=\"liblinear\")\n",
    "lm_pipeline = Pipeline(steps=[\n",
    "    ('features', feature_pipeline),\n",
    "    ('model', lm)\n",
    "])\n",
    "lm_pipeline.fit(X_train, y_train)\n",
    "lm_prediction = lm_pipeline.predict(X_valid)"
   ]
  },
  {
   "cell_type": "code",
   "execution_count": 72,
   "id": "715cabf8",
   "metadata": {},
   "outputs": [],
   "source": [
    "# summarize\n",
    "lm_prediction = lm_pipeline.predict(X_valid)"
   ]
  },
  {
   "cell_type": "markdown",
   "id": "41d410b0",
   "metadata": {},
   "source": [
    "## Boosted Tree"
   ]
  },
  {
   "cell_type": "code",
   "execution_count": 73,
   "id": "50e84609",
   "metadata": {},
   "outputs": [],
   "source": [
    "# i always build a linear model first\n",
    "def estimate(max_depth: int) -> tuple:\n",
    "    \"\"\"estimate a model to a certain depth\"\"\"\n",
    "    gb = GradientBoostingClassifier(max_depth=max_depth)\n",
    "    gb_pipeline = Pipeline(steps=[\n",
    "        ('features', feature_pipeline),\n",
    "        ('model', gb)\n",
    "    ])\n",
    "    gb_pipeline.fit(X_train, y_train)\n",
    "    gb_prediction = gb_pipeline.predict(X_valid)\n",
    "    train = roc_auc_score(gb_pipeline.predict(X_train), y_train)\n",
    "    valid = roc_auc_score(gb_pipeline.predict(X_valid), y_valid)\n",
    "    return train, valid"
   ]
  },
  {
   "cell_type": "code",
   "execution_count": 74,
   "id": "725340a5",
   "metadata": {},
   "outputs": [
    {
     "ename": "ValueError",
     "evalue": "Only one class present in y_true. ROC AUC score is not defined in that case.",
     "output_type": "error",
     "traceback": [
      "\u001b[0;31m---------------------------------------------------------------------------\u001b[0m",
      "\u001b[0;31mValueError\u001b[0m                                Traceback (most recent call last)",
      "Input \u001b[0;32mIn [74]\u001b[0m, in \u001b[0;36m<cell line: 5>\u001b[0;34m()\u001b[0m\n\u001b[1;32m      4\u001b[0m valid_roc\u001b[38;5;241m=\u001b[39m\u001b[38;5;28mlist\u001b[39m()\n\u001b[1;32m      5\u001b[0m \u001b[38;5;28;01mfor\u001b[39;00m i \u001b[38;5;129;01min\u001b[39;00m depth:\n\u001b[0;32m----> 6\u001b[0m     train, valid \u001b[38;5;241m=\u001b[39m \u001b[43mestimate\u001b[49m\u001b[43m(\u001b[49m\u001b[43mmax_depth\u001b[49m\u001b[38;5;241;43m=\u001b[39;49m\u001b[43mi\u001b[49m\u001b[43m)\u001b[49m\n\u001b[1;32m      7\u001b[0m     train_roc\u001b[38;5;241m.\u001b[39mappend(train)\n\u001b[1;32m      8\u001b[0m     valid_roc\u001b[38;5;241m.\u001b[39mappend(valid)\n",
      "Input \u001b[0;32mIn [73]\u001b[0m, in \u001b[0;36mestimate\u001b[0;34m(max_depth)\u001b[0m\n\u001b[1;32m      9\u001b[0m gb_pipeline\u001b[38;5;241m.\u001b[39mfit(X_train, y_train)\n\u001b[1;32m     10\u001b[0m gb_prediction \u001b[38;5;241m=\u001b[39m gb_pipeline\u001b[38;5;241m.\u001b[39mpredict(X_valid)\n\u001b[0;32m---> 11\u001b[0m train \u001b[38;5;241m=\u001b[39m \u001b[43mroc_auc_score\u001b[49m\u001b[43m(\u001b[49m\u001b[43mgb_pipeline\u001b[49m\u001b[38;5;241;43m.\u001b[39;49m\u001b[43mpredict\u001b[49m\u001b[43m(\u001b[49m\u001b[43mX_train\u001b[49m\u001b[43m)\u001b[49m\u001b[43m,\u001b[49m\u001b[43m \u001b[49m\u001b[43my_train\u001b[49m\u001b[43m)\u001b[49m\n\u001b[1;32m     12\u001b[0m valid \u001b[38;5;241m=\u001b[39m roc_auc_score(gb_pipeline\u001b[38;5;241m.\u001b[39mpredict(X_valid), y_valid)\n\u001b[1;32m     13\u001b[0m \u001b[38;5;28;01mreturn\u001b[39;00m train, valid\n",
      "File \u001b[0;32m/opt/conda/lib/python3.9/site-packages/sklearn/metrics/_ranking.py:569\u001b[0m, in \u001b[0;36mroc_auc_score\u001b[0;34m(y_true, y_score, average, sample_weight, max_fpr, multi_class, labels)\u001b[0m\n\u001b[1;32m    567\u001b[0m     labels \u001b[38;5;241m=\u001b[39m np\u001b[38;5;241m.\u001b[39munique(y_true)\n\u001b[1;32m    568\u001b[0m     y_true \u001b[38;5;241m=\u001b[39m label_binarize(y_true, classes\u001b[38;5;241m=\u001b[39mlabels)[:, \u001b[38;5;241m0\u001b[39m]\n\u001b[0;32m--> 569\u001b[0m     \u001b[38;5;28;01mreturn\u001b[39;00m \u001b[43m_average_binary_score\u001b[49m\u001b[43m(\u001b[49m\n\u001b[1;32m    570\u001b[0m \u001b[43m        \u001b[49m\u001b[43mpartial\u001b[49m\u001b[43m(\u001b[49m\u001b[43m_binary_roc_auc_score\u001b[49m\u001b[43m,\u001b[49m\u001b[43m \u001b[49m\u001b[43mmax_fpr\u001b[49m\u001b[38;5;241;43m=\u001b[39;49m\u001b[43mmax_fpr\u001b[49m\u001b[43m)\u001b[49m\u001b[43m,\u001b[49m\n\u001b[1;32m    571\u001b[0m \u001b[43m        \u001b[49m\u001b[43my_true\u001b[49m\u001b[43m,\u001b[49m\n\u001b[1;32m    572\u001b[0m \u001b[43m        \u001b[49m\u001b[43my_score\u001b[49m\u001b[43m,\u001b[49m\n\u001b[1;32m    573\u001b[0m \u001b[43m        \u001b[49m\u001b[43maverage\u001b[49m\u001b[43m,\u001b[49m\n\u001b[1;32m    574\u001b[0m \u001b[43m        \u001b[49m\u001b[43msample_weight\u001b[49m\u001b[38;5;241;43m=\u001b[39;49m\u001b[43msample_weight\u001b[49m\u001b[43m,\u001b[49m\n\u001b[1;32m    575\u001b[0m \u001b[43m    \u001b[49m\u001b[43m)\u001b[49m\n\u001b[1;32m    576\u001b[0m \u001b[38;5;28;01melse\u001b[39;00m:  \u001b[38;5;66;03m# multilabel-indicator\u001b[39;00m\n\u001b[1;32m    577\u001b[0m     \u001b[38;5;28;01mreturn\u001b[39;00m _average_binary_score(\n\u001b[1;32m    578\u001b[0m         partial(_binary_roc_auc_score, max_fpr\u001b[38;5;241m=\u001b[39mmax_fpr),\n\u001b[1;32m    579\u001b[0m         y_true,\n\u001b[0;32m   (...)\u001b[0m\n\u001b[1;32m    582\u001b[0m         sample_weight\u001b[38;5;241m=\u001b[39msample_weight,\n\u001b[1;32m    583\u001b[0m     )\n",
      "File \u001b[0;32m/opt/conda/lib/python3.9/site-packages/sklearn/metrics/_base.py:75\u001b[0m, in \u001b[0;36m_average_binary_score\u001b[0;34m(binary_metric, y_true, y_score, average, sample_weight)\u001b[0m\n\u001b[1;32m     72\u001b[0m     \u001b[38;5;28;01mraise\u001b[39;00m \u001b[38;5;167;01mValueError\u001b[39;00m(\u001b[38;5;124m\"\u001b[39m\u001b[38;5;132;01m{0}\u001b[39;00m\u001b[38;5;124m format is not supported\u001b[39m\u001b[38;5;124m\"\u001b[39m\u001b[38;5;241m.\u001b[39mformat(y_type))\n\u001b[1;32m     74\u001b[0m \u001b[38;5;28;01mif\u001b[39;00m y_type \u001b[38;5;241m==\u001b[39m \u001b[38;5;124m\"\u001b[39m\u001b[38;5;124mbinary\u001b[39m\u001b[38;5;124m\"\u001b[39m:\n\u001b[0;32m---> 75\u001b[0m     \u001b[38;5;28;01mreturn\u001b[39;00m \u001b[43mbinary_metric\u001b[49m\u001b[43m(\u001b[49m\u001b[43my_true\u001b[49m\u001b[43m,\u001b[49m\u001b[43m \u001b[49m\u001b[43my_score\u001b[49m\u001b[43m,\u001b[49m\u001b[43m \u001b[49m\u001b[43msample_weight\u001b[49m\u001b[38;5;241;43m=\u001b[39;49m\u001b[43msample_weight\u001b[49m\u001b[43m)\u001b[49m\n\u001b[1;32m     77\u001b[0m check_consistent_length(y_true, y_score, sample_weight)\n\u001b[1;32m     78\u001b[0m y_true \u001b[38;5;241m=\u001b[39m check_array(y_true)\n",
      "File \u001b[0;32m/opt/conda/lib/python3.9/site-packages/sklearn/metrics/_ranking.py:338\u001b[0m, in \u001b[0;36m_binary_roc_auc_score\u001b[0;34m(y_true, y_score, sample_weight, max_fpr)\u001b[0m\n\u001b[1;32m    336\u001b[0m \u001b[38;5;124;03m\"\"\"Binary roc auc score.\"\"\"\u001b[39;00m\n\u001b[1;32m    337\u001b[0m \u001b[38;5;28;01mif\u001b[39;00m \u001b[38;5;28mlen\u001b[39m(np\u001b[38;5;241m.\u001b[39munique(y_true)) \u001b[38;5;241m!=\u001b[39m \u001b[38;5;241m2\u001b[39m:\n\u001b[0;32m--> 338\u001b[0m     \u001b[38;5;28;01mraise\u001b[39;00m \u001b[38;5;167;01mValueError\u001b[39;00m(\n\u001b[1;32m    339\u001b[0m         \u001b[38;5;124m\"\u001b[39m\u001b[38;5;124mOnly one class present in y_true. ROC AUC score \u001b[39m\u001b[38;5;124m\"\u001b[39m\n\u001b[1;32m    340\u001b[0m         \u001b[38;5;124m\"\u001b[39m\u001b[38;5;124mis not defined in that case.\u001b[39m\u001b[38;5;124m\"\u001b[39m\n\u001b[1;32m    341\u001b[0m     )\n\u001b[1;32m    343\u001b[0m fpr, tpr, _ \u001b[38;5;241m=\u001b[39m roc_curve(y_true, y_score, sample_weight\u001b[38;5;241m=\u001b[39msample_weight)\n\u001b[1;32m    344\u001b[0m \u001b[38;5;28;01mif\u001b[39;00m max_fpr \u001b[38;5;129;01mis\u001b[39;00m \u001b[38;5;28;01mNone\u001b[39;00m \u001b[38;5;129;01mor\u001b[39;00m max_fpr \u001b[38;5;241m==\u001b[39m \u001b[38;5;241m1\u001b[39m:\n",
      "\u001b[0;31mValueError\u001b[0m: Only one class present in y_true. ROC AUC score is not defined in that case."
     ]
    }
   ],
   "source": [
    "# how does model performance vary with complexity (depth)\n",
    "depth = list(range(1,10))\n",
    "train_roc=list()\n",
    "valid_roc=list()\n",
    "for i in depth:\n",
    "    train, valid = estimate(max_depth=i)\n",
    "    train_roc.append(train)\n",
    "    valid_roc.append(valid)\n",
    "plt.plot(depth, train_roc, label = \"train\")\n",
    "plt.plot(depth, valid_roc, label = \"valid\")\n",
    "plt.legend()\n",
    "plt.show()"
   ]
  },
  {
   "cell_type": "code",
   "execution_count": 75,
   "id": "6d0c62e4",
   "metadata": {},
   "outputs": [],
   "source": [
    "# choose a reasonable depth without overfitting\n",
    "gb = GradientBoostingClassifier(max_depth=3)\n",
    "gb_pipeline = Pipeline(steps=[\n",
    "    ('features', feature_pipeline),\n",
    "    ('model', gb)\n",
    "])\n",
    "gb_pipeline.fit(X_train, y_train)\n",
    "gb_prediction = gb_pipeline.predict(X_valid)"
   ]
  },
  {
   "cell_type": "markdown",
   "id": "781331e6",
   "metadata": {},
   "source": [
    "## Compare models"
   ]
  },
  {
   "cell_type": "markdown",
   "id": "f2319306",
   "metadata": {},
   "source": [
    "### Confusion Matrix"
   ]
  },
  {
   "cell_type": "code",
   "execution_count": 76,
   "id": "9f3ad7f9",
   "metadata": {},
   "outputs": [
    {
     "data": {
      "text/plain": [
       "array([[562068,     15],\n",
       "       [ 57299,      6]])"
      ]
     },
     "execution_count": 76,
     "metadata": {},
     "output_type": "execute_result"
    }
   ],
   "source": [
    "# confusion matrix\n",
    "confusion_matrix(y_valid,gb_prediction)"
   ]
  },
  {
   "cell_type": "code",
   "execution_count": 77,
   "id": "727ef9de",
   "metadata": {},
   "outputs": [
    {
     "data": {
      "text/plain": [
       "array([[562076,      7],\n",
       "       [ 57302,      3]])"
      ]
     },
     "execution_count": 77,
     "metadata": {},
     "output_type": "execute_result"
    }
   ],
   "source": [
    "# confusion matrix\n",
    "confusion_matrix(y_valid,lm_prediction)"
   ]
  },
  {
   "cell_type": "markdown",
   "id": "5b4f75ee",
   "metadata": {},
   "source": [
    "### Area under the ROC curve"
   ]
  },
  {
   "cell_type": "code",
   "execution_count": 78,
   "id": "18ea0dd7",
   "metadata": {},
   "outputs": [
    {
     "data": {
      "text/plain": [
       "0.5000199488879913"
      ]
     },
     "execution_count": 78,
     "metadata": {},
     "output_type": "execute_result"
    }
   ],
   "source": [
    "roc_auc_score(y_valid,lm_prediction)"
   ]
  },
  {
   "cell_type": "code",
   "execution_count": 79,
   "id": "001e7c1f",
   "metadata": {},
   "outputs": [
    {
     "data": {
      "text/plain": [
       "0.500039008227642"
      ]
     },
     "execution_count": 79,
     "metadata": {},
     "output_type": "execute_result"
    }
   ],
   "source": [
    "roc_auc_score(y_valid,gb_prediction)"
   ]
  },
  {
   "cell_type": "markdown",
   "id": "e4b9b750",
   "metadata": {},
   "source": [
    "### Precision and recall"
   ]
  },
  {
   "cell_type": "code",
   "execution_count": 80,
   "id": "15369cef",
   "metadata": {},
   "outputs": [
    {
     "data": {
      "image/png": "[encoded data removed]",
      "text/plain": [
       "<Figure size 432x288 with 1 Axes>"
      ]
     },
     "metadata": {
      "needs_background": "light"
     },
     "output_type": "display_data"
    }
   ],
   "source": [
    "# precision and recall\n",
    "lm_precision, lm_recall, lm_thresholds = precision_recall_curve(y_valid, lm_prediction)\n",
    "gb_precision, gb_recall, gb_thresholds = precision_recall_curve(y_valid, gb_prediction)\n",
    "plt.plot(lm_precision, lm_recall, label = \"linear\")\n",
    "plt.plot(gb_precision, gb_recall, label = \"boosted\")\n",
    "plt.legend()\n",
    "plt.show()"
   ]
  },
  {
   "cell_type": "markdown",
   "id": "58b2ff0d",
   "metadata": {},
   "source": [
    "### Important features"
   ]
  },
  {
   "cell_type": "code",
   "execution_count": 81,
   "id": "8897da0d",
   "metadata": {},
   "outputs": [
    {
     "name": "stderr",
     "output_type": "stream",
     "text": [
      "/tmp/ipykernel_16/4230822473.py:32: UserWarning: Transformer imputer (type SimpleImputer) does not provide get_feature_names. Will return input column names if available\n",
      "  warnings.warn(\"Transformer %s (type %s) does not \"\n",
      "/tmp/ipykernel_16/4230822473.py:32: UserWarning: Transformer scaler (type MinMaxScaler) does not provide get_feature_names. Will return input column names if available\n",
      "  warnings.warn(\"Transformer %s (type %s) does not \"\n",
      "/opt/conda/lib/python3.9/site-packages/sklearn/utils/deprecation.py:87: FutureWarning: Function get_feature_names is deprecated; get_feature_names is deprecated in 1.0 and will be removed in 1.2. Please use get_feature_names_out instead.\n",
      "  warnings.warn(msg, category=FutureWarning)\n"
     ]
    },
    {
     "data": {
      "text/html": [
       "\n",
       "    <style>\n",
       "    table.eli5-weights tr:hover {\n",
       "        filter: brightness(85%);\n",
       "    }\n",
       "</style>\n",
       "\n",
       "\n",
       "\n",
       "    \n",
       "\n",
       "    \n",
       "\n",
       "    \n",
       "\n",
       "    \n",
       "\n",
       "    \n",
       "\n",
       "    \n",
       "\n",
       "\n",
       "    \n",
       "\n",
       "    \n",
       "\n",
       "    \n",
       "\n",
       "    \n",
       "        \n",
       "\n",
       "    \n",
       "\n",
       "        \n",
       "            \n",
       "                \n",
       "                \n",
       "    \n",
       "        <p style=\"margin-bottom: 0.5em; margin-top: 0em\">\n",
       "            <b>\n",
       "    \n",
       "        y=1\n",
       "    \n",
       "</b>\n",
       "\n",
       "top features\n",
       "        </p>\n",
       "    \n",
       "    <table class=\"eli5-weights\"\n",
       "           style=\"border-collapse: collapse; border: none; margin-top: 0em; table-layout: auto; margin-bottom: 2em;\">\n",
       "        <thead>\n",
       "        <tr style=\"border: none;\">\n",
       "            \n",
       "                <th style=\"padding: 0 1em 0 0.5em; text-align: right; border: none;\" title=\"Feature weights. Note that weights do not account for feature value scales, so if feature values have different scales, features with highest weights might not be the most important.\">\n",
       "                    Weight<sup>?</sup>\n",
       "                </th>\n",
       "            \n",
       "            <th style=\"padding: 0 0.5em 0 0.5em; text-align: left; border: none;\">Feature</th>\n",
       "            \n",
       "        </tr>\n",
       "        </thead>\n",
       "        <tbody>\n",
       "        \n",
       "            <tr style=\"background-color: hsl(120, 100.00%, 80.00%); border: none;\">\n",
       "    <td style=\"padding: 0 1em 0 0.5em; text-align: right; border: none;\">\n",
       "        +1.681\n",
       "    </td>\n",
       "    <td style=\"padding: 0 0.5em 0 0.5em; text-align: left; border: none;\">\n",
       "        encoder__x2_50+ yrs\n",
       "    </td>\n",
       "    \n",
       "</tr>\n",
       "        \n",
       "            <tr style=\"background-color: hsl(120, 100.00%, 84.50%); border: none;\">\n",
       "    <td style=\"padding: 0 1em 0 0.5em; text-align: right; border: none;\">\n",
       "        +1.168\n",
       "    </td>\n",
       "    <td style=\"padding: 0 0.5em 0 0.5em; text-align: left; border: none;\">\n",
       "        encoder__x2_45 to 49 yrs\n",
       "    </td>\n",
       "    \n",
       "</tr>\n",
       "        \n",
       "            <tr style=\"background-color: hsl(120, 100.00%, 90.72%); border: none;\">\n",
       "    <td style=\"padding: 0 1em 0 0.5em; text-align: right; border: none;\">\n",
       "        +0.562\n",
       "    </td>\n",
       "    <td style=\"padding: 0 0.5em 0 0.5em; text-align: left; border: none;\">\n",
       "        encoder__x2_Under 15 yrs\n",
       "    </td>\n",
       "    \n",
       "</tr>\n",
       "        \n",
       "            <tr style=\"background-color: hsl(120, 100.00%, 91.96%); border: none;\">\n",
       "    <td style=\"padding: 0 1em 0 0.5em; text-align: right; border: none;\">\n",
       "        +0.457\n",
       "    </td>\n",
       "    <td style=\"padding: 0 0.5em 0 0.5em; text-align: left; border: none;\">\n",
       "        encoder__x2_40 to 44 yrs\n",
       "    </td>\n",
       "    \n",
       "</tr>\n",
       "        \n",
       "            <tr style=\"background-color: hsl(120, 100.00%, 93.08%); border: none;\">\n",
       "    <td style=\"padding: 0 1em 0 0.5em; text-align: right; border: none;\">\n",
       "        +0.370\n",
       "    </td>\n",
       "    <td style=\"padding: 0 0.5em 0 0.5em; text-align: left; border: none;\">\n",
       "        &lt;BIAS&gt;\n",
       "    </td>\n",
       "    \n",
       "</tr>\n",
       "        \n",
       "            <tr style=\"background-color: hsl(120, 100.00%, 95.06%); border: none;\">\n",
       "    <td style=\"padding: 0 1em 0 0.5em; text-align: right; border: none;\">\n",
       "        +0.228\n",
       "    </td>\n",
       "    <td style=\"padding: 0 0.5em 0 0.5em; text-align: left; border: none;\">\n",
       "        encoder__x2_15 to 17 yrs\n",
       "    </td>\n",
       "    \n",
       "</tr>\n",
       "        \n",
       "            <tr style=\"background-color: hsl(120, 100.00%, 95.28%); border: none;\">\n",
       "    <td style=\"padding: 0 1em 0 0.5em; text-align: right; border: none;\">\n",
       "        +0.214\n",
       "    </td>\n",
       "    <td style=\"padding: 0 0.5em 0 0.5em; text-align: left; border: none;\">\n",
       "        encoder__x2_35 to 39 yrs\n",
       "    </td>\n",
       "    \n",
       "</tr>\n",
       "        \n",
       "            <tr style=\"background-color: hsl(120, 100.00%, 98.12%); border: none;\">\n",
       "    <td style=\"padding: 0 1em 0 0.5em; text-align: right; border: none;\">\n",
       "        +0.057\n",
       "    </td>\n",
       "    <td style=\"padding: 0 0.5em 0 0.5em; text-align: left; border: none;\">\n",
       "        encoder__x2_18 to 19 yrs\n",
       "    </td>\n",
       "    \n",
       "</tr>\n",
       "        \n",
       "            <tr style=\"background-color: hsl(120, 100.00%, 98.25%); border: none;\">\n",
       "    <td style=\"padding: 0 1em 0 0.5em; text-align: right; border: none;\">\n",
       "        +0.052\n",
       "    </td>\n",
       "    <td style=\"padding: 0 0.5em 0 0.5em; text-align: left; border: none;\">\n",
       "        encoder__x2_30 to 34 yrs\n",
       "    </td>\n",
       "    \n",
       "</tr>\n",
       "        \n",
       "        \n",
       "\n",
       "        \n",
       "            <tr style=\"background-color: hsl(0, 100.00%, 98.10%); border: none;\">\n",
       "                <td colspan=\"2\" style=\"padding: 0 0.5em 0 0.5em; text-align: center; border: none; white-space: nowrap;\">\n",
       "                    <i>&hellip; 1 more negative &hellip;</i>\n",
       "                </td>\n",
       "            </tr>\n",
       "        \n",
       "        \n",
       "            <tr style=\"background-color: hsl(0, 100.00%, 98.10%); border: none;\">\n",
       "    <td style=\"padding: 0 1em 0 0.5em; text-align: right; border: none;\">\n",
       "        -0.058\n",
       "    </td>\n",
       "    <td style=\"padding: 0 0.5em 0 0.5em; text-align: left; border: none;\">\n",
       "        encoder__x2_25 to 29 yrs\n",
       "    </td>\n",
       "    \n",
       "</tr>\n",
       "        \n",
       "            <tr style=\"background-color: hsl(0, 100.00%, 96.34%); border: none;\">\n",
       "    <td style=\"padding: 0 1em 0 0.5em; text-align: right; border: none;\">\n",
       "        -0.149\n",
       "    </td>\n",
       "    <td style=\"padding: 0 0.5em 0 0.5em; text-align: left; border: none;\">\n",
       "        encoder__x0_None\n",
       "    </td>\n",
       "    \n",
       "</tr>\n",
       "        \n",
       "            <tr style=\"background-color: hsl(0, 100.00%, 96.30%); border: none;\">\n",
       "    <td style=\"padding: 0 1em 0 0.5em; text-align: right; border: none;\">\n",
       "        -0.151\n",
       "    </td>\n",
       "    <td style=\"padding: 0 0.5em 0 0.5em; text-align: left; border: none;\">\n",
       "        encoder__x0_One, Two, Three or More\n",
       "    </td>\n",
       "    \n",
       "</tr>\n",
       "        \n",
       "            <tr style=\"background-color: hsl(0, 100.00%, 94.46%); border: none;\">\n",
       "    <td style=\"padding: 0 1em 0 0.5em; text-align: right; border: none;\">\n",
       "        -0.269\n",
       "    </td>\n",
       "    <td style=\"padding: 0 0.5em 0 0.5em; text-align: left; border: none;\">\n",
       "        encoder__x3_Yes\n",
       "    </td>\n",
       "    \n",
       "</tr>\n",
       "        \n",
       "            <tr style=\"background-color: hsl(0, 100.00%, 90.70%); border: none;\">\n",
       "    <td style=\"padding: 0 1em 0 0.5em; text-align: right; border: none;\">\n",
       "        -0.563\n",
       "    </td>\n",
       "    <td style=\"padding: 0 0.5em 0 0.5em; text-align: left; border: none;\">\n",
       "        encoder__x4_Adequate\n",
       "    </td>\n",
       "    \n",
       "</tr>\n",
       "        \n",
       "            <tr style=\"background-color: hsl(0, 100.00%, 90.18%); border: none;\">\n",
       "    <td style=\"padding: 0 1em 0 0.5em; text-align: right; border: none;\">\n",
       "        -0.609\n",
       "    </td>\n",
       "    <td style=\"padding: 0 0.5em 0 0.5em; text-align: left; border: none;\">\n",
       "        encoder__x1_Black, non-Hispanic\n",
       "    </td>\n",
       "    \n",
       "</tr>\n",
       "        \n",
       "            <tr style=\"background-color: hsl(0, 100.00%, 88.94%); border: none;\">\n",
       "    <td style=\"padding: 0 1em 0 0.5em; text-align: right; border: none;\">\n",
       "        -0.721\n",
       "    </td>\n",
       "    <td style=\"padding: 0 0.5em 0 0.5em; text-align: left; border: none;\">\n",
       "        encoder__x3_No\n",
       "    </td>\n",
       "    \n",
       "</tr>\n",
       "        \n",
       "            <tr style=\"background-color: hsl(0, 100.00%, 85.26%); border: none;\">\n",
       "    <td style=\"padding: 0 1em 0 0.5em; text-align: right; border: none;\">\n",
       "        -1.087\n",
       "    </td>\n",
       "    <td style=\"padding: 0 0.5em 0 0.5em; text-align: left; border: none;\">\n",
       "        encoder__x1_Hispanic (of any race)\n",
       "    </td>\n",
       "    \n",
       "</tr>\n",
       "        \n",
       "            <tr style=\"background-color: hsl(0, 100.00%, 84.22%); border: none;\">\n",
       "    <td style=\"padding: 0 1em 0 0.5em; text-align: right; border: none;\">\n",
       "        -1.198\n",
       "    </td>\n",
       "    <td style=\"padding: 0 0.5em 0 0.5em; text-align: left; border: none;\">\n",
       "        encoder__x4_Inadequate\n",
       "    </td>\n",
       "    \n",
       "</tr>\n",
       "        \n",
       "            <tr style=\"background-color: hsl(0, 100.00%, 83.19%); border: none;\">\n",
       "    <td style=\"padding: 0 1em 0 0.5em; text-align: right; border: none;\">\n",
       "        -1.312\n",
       "    </td>\n",
       "    <td style=\"padding: 0 0.5em 0 0.5em; text-align: left; border: none;\">\n",
       "        encoder__x1_Asian, non-Hispanic\n",
       "    </td>\n",
       "    \n",
       "</tr>\n",
       "        \n",
       "            <tr style=\"background-color: hsl(0, 100.00%, 82.66%); border: none;\">\n",
       "    <td style=\"padding: 0 1em 0 0.5em; text-align: right; border: none;\">\n",
       "        -1.371\n",
       "    </td>\n",
       "    <td style=\"padding: 0 0.5em 0 0.5em; text-align: left; border: none;\">\n",
       "        encoder__x1_White, non-Hispanic\n",
       "    </td>\n",
       "    \n",
       "</tr>\n",
       "        \n",
       "\n",
       "        </tbody>\n",
       "    </table>\n",
       "\n",
       "            \n",
       "        \n",
       "\n",
       "        \n",
       "\n",
       "\n",
       "\n",
       "    \n",
       "\n",
       "    \n",
       "\n",
       "    \n",
       "\n",
       "    \n",
       "\n",
       "\n",
       "    \n",
       "\n",
       "    \n",
       "\n",
       "    \n",
       "\n",
       "    \n",
       "\n",
       "    \n",
       "\n",
       "    \n",
       "\n",
       "\n",
       "    \n",
       "\n",
       "    \n",
       "\n",
       "    \n",
       "\n",
       "    \n",
       "\n",
       "    \n",
       "\n",
       "    \n",
       "\n",
       "\n",
       "\n"
      ],
      "text/plain": [
       "Explanation(estimator=\"LogisticRegression(penalty='l1', solver='liblinear')\", description=\"\\nFeatures with largest coefficients.\\nCaveats:\\n1. Be careful with features which are not\\n   independent - weights don't show their importance.\\n2. If scale of input features is different then scale of coefficients\\n   will also be different, making direct comparison between coefficient values\\n   incorrect.\\n3. Depending on regularization, rare features sometimes may have high\\n   coefficients; this doesn't mean they contribute much to the\\n   classification result for most examples.\\n\", error=None, method='linear model', is_regression=False, targets=[TargetExplanation(target=1, feature_weights=FeatureWeights(pos=[FeatureWeight(feature='encoder__x2_50+ yrs', weight=1.6814649128108103, std=None, value=None), FeatureWeight(feature='encoder__x2_45 to 49 yrs', weight=1.1683174394892608, std=None, value=None), FeatureWeight(feature='encoder__x2_Under 15 yrs', weight=0.5616688990894065, std=None, value=None), FeatureWeight(feature='encoder__x2_40 to 44 yrs', weight=0.45713299348417713, std=None, value=None), FeatureWeight(feature='<BIAS>', weight=0.36954288321161904, std=None, value=None), FeatureWeight(feature='encoder__x2_15 to 17 yrs', weight=0.22780860597238495, std=None, value=None), FeatureWeight(feature='encoder__x2_35 to 39 yrs', weight=0.21375997841634506, std=None, value=None), FeatureWeight(feature='encoder__x2_18 to 19 yrs', weight=0.057495956954323045, std=None, value=None), FeatureWeight(feature='encoder__x2_30 to 34 yrs', weight=0.05168244175117403, std=None, value=None)], neg=[FeatureWeight(feature='encoder__x1_White, non-Hispanic', weight=-1.3713965918433488, std=None, value=None), FeatureWeight(feature='encoder__x1_Asian, non-Hispanic', weight=-1.311664720660827, std=None, value=None), FeatureWeight(feature='encoder__x4_Inadequate', weight=-1.1983044511414696, std=None, value=None), FeatureWeight(feature='encoder__x1_Hispanic (of any race)', weight=-1.0871180284593696, std=None, value=None), FeatureWeight(feature='encoder__x3_No', weight=-0.7213794904612509, std=None, value=None), FeatureWeight(feature='encoder__x1_Black, non-Hispanic', weight=-0.6088565370525885, std=None, value=None), FeatureWeight(feature='encoder__x4_Adequate', weight=-0.5629283543817872, std=None, value=None), FeatureWeight(feature='encoder__x3_Yes', weight=-0.2685378619371388, std=None, value=None), FeatureWeight(feature='encoder__x0_One, Two, Three or More', weight=-0.15077810330602331, std=None, value=None), FeatureWeight(feature='encoder__x0_None', weight=-0.14866265564601708, std=None, value=None), FeatureWeight(feature='encoder__x2_25 to 29 yrs', weight=-0.05844441127818088, std=None, value=None)], pos_remaining=0, neg_remaining=1), proba=None, score=None, weighted_spans=None, heatmap=None)], feature_importances=None, decision_tree=None, highlight_spaces=None, transition_features=None, image=None)"
      ]
     },
     "execution_count": 81,
     "metadata": {},
     "output_type": "execute_result"
    }
   ],
   "source": [
    "# important features\n",
    "extracted_features = get_feature_names(lm_pipeline.named_steps[\"features\"])\n",
    "eli5.explain_weights(\n",
    "    lm_pipeline.named_steps['model'], \n",
    "    top=20, \n",
    "    feature_names=extracted_features\n",
    ")"
   ]
  },
  {
   "cell_type": "code",
   "execution_count": 82,
   "id": "e94a7b10",
   "metadata": {},
   "outputs": [
    {
     "name": "stderr",
     "output_type": "stream",
     "text": [
      "/tmp/ipykernel_16/4230822473.py:32: UserWarning: Transformer imputer (type SimpleImputer) does not provide get_feature_names. Will return input column names if available\n",
      "  warnings.warn(\"Transformer %s (type %s) does not \"\n",
      "/tmp/ipykernel_16/4230822473.py:32: UserWarning: Transformer scaler (type MinMaxScaler) does not provide get_feature_names. Will return input column names if available\n",
      "  warnings.warn(\"Transformer %s (type %s) does not \"\n"
     ]
    },
    {
     "data": {
      "text/html": [
       "\n",
       "    <style>\n",
       "    table.eli5-weights tr:hover {\n",
       "        filter: brightness(85%);\n",
       "    }\n",
       "</style>\n",
       "\n",
       "\n",
       "\n",
       "    \n",
       "\n",
       "    \n",
       "\n",
       "    \n",
       "\n",
       "    \n",
       "\n",
       "    \n",
       "\n",
       "    \n",
       "\n",
       "\n",
       "    \n",
       "\n",
       "    \n",
       "\n",
       "    \n",
       "\n",
       "    \n",
       "\n",
       "    \n",
       "\n",
       "    \n",
       "\n",
       "\n",
       "    \n",
       "\n",
       "    \n",
       "\n",
       "    \n",
       "\n",
       "    \n",
       "\n",
       "    \n",
       "        <table class=\"eli5-weights eli5-feature-importances\" style=\"border-collapse: collapse; border: none; margin-top: 0em; table-layout: auto;\">\n",
       "    <thead>\n",
       "    <tr style=\"border: none;\">\n",
       "        <th style=\"padding: 0 1em 0 0.5em; text-align: right; border: none;\">Weight</th>\n",
       "        <th style=\"padding: 0 0.5em 0 0.5em; text-align: left; border: none;\">Feature</th>\n",
       "    </tr>\n",
       "    </thead>\n",
       "    <tbody>\n",
       "    \n",
       "        <tr style=\"background-color: hsl(120, 100.00%, 80.00%); border: none;\">\n",
       "            <td style=\"padding: 0 1em 0 0.5em; text-align: right; border: none;\">\n",
       "                0.2901\n",
       "                \n",
       "                    &plusmn; 0.2364\n",
       "                \n",
       "            </td>\n",
       "            <td style=\"padding: 0 0.5em 0 0.5em; text-align: left; border: none;\">\n",
       "                encoder__x1_Black, non-Hispanic\n",
       "            </td>\n",
       "        </tr>\n",
       "    \n",
       "        <tr style=\"background-color: hsl(120, 100.00%, 82.27%); border: none;\">\n",
       "            <td style=\"padding: 0 1em 0 0.5em; text-align: right; border: none;\">\n",
       "                0.2443\n",
       "                \n",
       "                    &plusmn; 0.2427\n",
       "                \n",
       "            </td>\n",
       "            <td style=\"padding: 0 0.5em 0 0.5em; text-align: left; border: none;\">\n",
       "                encoder__x4_Inadequate\n",
       "            </td>\n",
       "        </tr>\n",
       "    \n",
       "        <tr style=\"background-color: hsl(120, 100.00%, 89.68%); border: none;\">\n",
       "            <td style=\"padding: 0 1em 0 0.5em; text-align: right; border: none;\">\n",
       "                0.1128\n",
       "                \n",
       "                    &plusmn; 0.1881\n",
       "                \n",
       "            </td>\n",
       "            <td style=\"padding: 0 0.5em 0 0.5em; text-align: left; border: none;\">\n",
       "                encoder__x4_Adequate\n",
       "            </td>\n",
       "        </tr>\n",
       "    \n",
       "        <tr style=\"background-color: hsl(120, 100.00%, 92.86%); border: none;\">\n",
       "            <td style=\"padding: 0 1em 0 0.5em; text-align: right; border: none;\">\n",
       "                0.0666\n",
       "                \n",
       "                    &plusmn; 0.1500\n",
       "                \n",
       "            </td>\n",
       "            <td style=\"padding: 0 0.5em 0 0.5em; text-align: left; border: none;\">\n",
       "                encoder__x3_No\n",
       "            </td>\n",
       "        </tr>\n",
       "    \n",
       "        <tr style=\"background-color: hsl(120, 100.00%, 95.53%); border: none;\">\n",
       "            <td style=\"padding: 0 1em 0 0.5em; text-align: right; border: none;\">\n",
       "                0.0341\n",
       "                \n",
       "                    &plusmn; 0.1919\n",
       "                \n",
       "            </td>\n",
       "            <td style=\"padding: 0 0.5em 0 0.5em; text-align: left; border: none;\">\n",
       "                encoder__x2_40 to 44 yrs\n",
       "            </td>\n",
       "        </tr>\n",
       "    \n",
       "        <tr style=\"background-color: hsl(120, 100.00%, 95.58%); border: none;\">\n",
       "            <td style=\"padding: 0 1em 0 0.5em; text-align: right; border: none;\">\n",
       "                0.0336\n",
       "                \n",
       "                    &plusmn; 0.1360\n",
       "                \n",
       "            </td>\n",
       "            <td style=\"padding: 0 0.5em 0 0.5em; text-align: left; border: none;\">\n",
       "                encoder__x3_Yes\n",
       "            </td>\n",
       "        </tr>\n",
       "    \n",
       "        <tr style=\"background-color: hsl(120, 100.00%, 95.86%); border: none;\">\n",
       "            <td style=\"padding: 0 1em 0 0.5em; text-align: right; border: none;\">\n",
       "                0.0306\n",
       "                \n",
       "                    &plusmn; 0.0980\n",
       "                \n",
       "            </td>\n",
       "            <td style=\"padding: 0 0.5em 0 0.5em; text-align: left; border: none;\">\n",
       "                encoder__x1_Hispanic (of any race)\n",
       "            </td>\n",
       "        </tr>\n",
       "    \n",
       "        <tr style=\"background-color: hsl(120, 100.00%, 95.89%); border: none;\">\n",
       "            <td style=\"padding: 0 1em 0 0.5em; text-align: right; border: none;\">\n",
       "                0.0302\n",
       "                \n",
       "                    &plusmn; 0.1905\n",
       "                \n",
       "            </td>\n",
       "            <td style=\"padding: 0 0.5em 0 0.5em; text-align: left; border: none;\">\n",
       "                encoder__x1_White, non-Hispanic\n",
       "            </td>\n",
       "        </tr>\n",
       "    \n",
       "        <tr style=\"background-color: hsl(120, 100.00%, 96.03%); border: none;\">\n",
       "            <td style=\"padding: 0 1em 0 0.5em; text-align: right; border: none;\">\n",
       "                0.0288\n",
       "                \n",
       "                    &plusmn; 0.2112\n",
       "                \n",
       "            </td>\n",
       "            <td style=\"padding: 0 0.5em 0 0.5em; text-align: left; border: none;\">\n",
       "                encoder__x2_45 to 49 yrs\n",
       "            </td>\n",
       "        </tr>\n",
       "    \n",
       "        <tr style=\"background-color: hsl(120, 100.00%, 96.10%); border: none;\">\n",
       "            <td style=\"padding: 0 1em 0 0.5em; text-align: right; border: none;\">\n",
       "                0.0281\n",
       "                \n",
       "                    &plusmn; 0.2214\n",
       "                \n",
       "            </td>\n",
       "            <td style=\"padding: 0 0.5em 0 0.5em; text-align: left; border: none;\">\n",
       "                encoder__x2_35 to 39 yrs\n",
       "            </td>\n",
       "        </tr>\n",
       "    \n",
       "        <tr style=\"background-color: hsl(120, 100.00%, 96.58%); border: none;\">\n",
       "            <td style=\"padding: 0 1em 0 0.5em; text-align: right; border: none;\">\n",
       "                0.0232\n",
       "                \n",
       "                    &plusmn; 0.2321\n",
       "                \n",
       "            </td>\n",
       "            <td style=\"padding: 0 0.5em 0 0.5em; text-align: left; border: none;\">\n",
       "                encoder__x0_None\n",
       "            </td>\n",
       "        </tr>\n",
       "    \n",
       "        <tr style=\"background-color: hsl(120, 100.00%, 96.96%); border: none;\">\n",
       "            <td style=\"padding: 0 1em 0 0.5em; text-align: right; border: none;\">\n",
       "                0.0197\n",
       "                \n",
       "                    &plusmn; 0.2807\n",
       "                \n",
       "            </td>\n",
       "            <td style=\"padding: 0 0.5em 0 0.5em; text-align: left; border: none;\">\n",
       "                encoder__x0_One, Two, Three or More\n",
       "            </td>\n",
       "        </tr>\n",
       "    \n",
       "        <tr style=\"background-color: hsl(120, 100.00%, 97.54%); border: none;\">\n",
       "            <td style=\"padding: 0 1em 0 0.5em; text-align: right; border: none;\">\n",
       "                0.0146\n",
       "                \n",
       "                    &plusmn; 0.1994\n",
       "                \n",
       "            </td>\n",
       "            <td style=\"padding: 0 0.5em 0 0.5em; text-align: left; border: none;\">\n",
       "                encoder__x2_25 to 29 yrs\n",
       "            </td>\n",
       "        </tr>\n",
       "    \n",
       "        <tr style=\"background-color: hsl(120, 100.00%, 98.21%); border: none;\">\n",
       "            <td style=\"padding: 0 1em 0 0.5em; text-align: right; border: none;\">\n",
       "                0.0092\n",
       "                \n",
       "                    &plusmn; 0.1878\n",
       "                \n",
       "            </td>\n",
       "            <td style=\"padding: 0 0.5em 0 0.5em; text-align: left; border: none;\">\n",
       "                encoder__x2_20 to 24 yrs\n",
       "            </td>\n",
       "        </tr>\n",
       "    \n",
       "        <tr style=\"background-color: hsl(120, 100.00%, 98.23%); border: none;\">\n",
       "            <td style=\"padding: 0 1em 0 0.5em; text-align: right; border: none;\">\n",
       "                0.0091\n",
       "                \n",
       "                    &plusmn; 0.1433\n",
       "                \n",
       "            </td>\n",
       "            <td style=\"padding: 0 0.5em 0 0.5em; text-align: left; border: none;\">\n",
       "                encoder__x2_15 to 17 yrs\n",
       "            </td>\n",
       "        </tr>\n",
       "    \n",
       "        <tr style=\"background-color: hsl(120, 100.00%, 98.25%); border: none;\">\n",
       "            <td style=\"padding: 0 1em 0 0.5em; text-align: right; border: none;\">\n",
       "                0.0089\n",
       "                \n",
       "                    &plusmn; 0.2038\n",
       "                \n",
       "            </td>\n",
       "            <td style=\"padding: 0 0.5em 0 0.5em; text-align: left; border: none;\">\n",
       "                encoder__x2_50+ yrs\n",
       "            </td>\n",
       "        </tr>\n",
       "    \n",
       "        <tr style=\"background-color: hsl(120, 100.00%, 98.54%); border: none;\">\n",
       "            <td style=\"padding: 0 1em 0 0.5em; text-align: right; border: none;\">\n",
       "                0.0069\n",
       "                \n",
       "                    &plusmn; 0.1284\n",
       "                \n",
       "            </td>\n",
       "            <td style=\"padding: 0 0.5em 0 0.5em; text-align: left; border: none;\">\n",
       "                encoder__x1_Asian, non-Hispanic\n",
       "            </td>\n",
       "        </tr>\n",
       "    \n",
       "        <tr style=\"background-color: hsl(120, 100.00%, 99.09%); border: none;\">\n",
       "            <td style=\"padding: 0 1em 0 0.5em; text-align: right; border: none;\">\n",
       "                0.0035\n",
       "                \n",
       "                    &plusmn; 0.1941\n",
       "                \n",
       "            </td>\n",
       "            <td style=\"padding: 0 0.5em 0 0.5em; text-align: left; border: none;\">\n",
       "                encoder__x2_18 to 19 yrs\n",
       "            </td>\n",
       "        </tr>\n",
       "    \n",
       "        <tr style=\"background-color: hsl(120, 100.00%, 99.12%); border: none;\">\n",
       "            <td style=\"padding: 0 1em 0 0.5em; text-align: right; border: none;\">\n",
       "                0.0034\n",
       "                \n",
       "                    &plusmn; 0.1701\n",
       "                \n",
       "            </td>\n",
       "            <td style=\"padding: 0 0.5em 0 0.5em; text-align: left; border: none;\">\n",
       "                encoder__x2_30 to 34 yrs\n",
       "            </td>\n",
       "        </tr>\n",
       "    \n",
       "        <tr style=\"background-color: hsl(120, 100.00%, 99.33%); border: none;\">\n",
       "            <td style=\"padding: 0 1em 0 0.5em; text-align: right; border: none;\">\n",
       "                0.0023\n",
       "                \n",
       "                    &plusmn; 0.1674\n",
       "                \n",
       "            </td>\n",
       "            <td style=\"padding: 0 0.5em 0 0.5em; text-align: left; border: none;\">\n",
       "                encoder__x2_Under 15 yrs\n",
       "            </td>\n",
       "        </tr>\n",
       "    \n",
       "    \n",
       "    </tbody>\n",
       "</table>\n",
       "    \n",
       "\n",
       "    \n",
       "\n",
       "\n",
       "    \n",
       "\n",
       "    \n",
       "\n",
       "    \n",
       "\n",
       "    \n",
       "\n",
       "    \n",
       "\n",
       "    \n",
       "\n",
       "\n",
       "\n"
      ],
      "text/plain": [
       "Explanation(estimator='GradientBoostingClassifier()', description='\\nRandom forest feature importances; values are numbers 0 <= x <= 1;\\nall values sum to 1.\\n', error=None, method='feature importances', is_regression=False, targets=None, feature_importances=FeatureImportances(importances=[FeatureWeight(feature='encoder__x1_Black, non-Hispanic', weight=0.29014795312870045, std=0.11818272248557149, value=None), FeatureWeight(feature='encoder__x4_Inadequate', weight=0.24428841981948246, std=0.12135482410234374, value=None), FeatureWeight(feature='encoder__x4_Adequate', weight=0.1128235449815664, std=0.09407338547781302, value=None), FeatureWeight(feature='encoder__x3_No', weight=0.06659410237513308, std=0.07497799425777128, value=None), FeatureWeight(feature='encoder__x2_40 to 44 yrs', weight=0.03408082542342333, std=0.09593144025910867, value=None), FeatureWeight(feature='encoder__x3_Yes', weight=0.03360746138307379, std=0.06802212019073946, value=None), FeatureWeight(feature='encoder__x1_Hispanic (of any race)', weight=0.030624606086315436, std=0.04900019589390032, value=None), FeatureWeight(feature='encoder__x1_White, non-Hispanic', weight=0.030230220300722453, std=0.09525552342024692, value=None), FeatureWeight(feature='encoder__x2_45 to 49 yrs', weight=0.028782278240494872, std=0.10562115645206813, value=None), FeatureWeight(feature='encoder__x2_35 to 39 yrs', weight=0.028101554225029256, std=0.11071499039255428, value=None), FeatureWeight(feature='encoder__x0_None', weight=0.02322846199916788, std=0.11603488800291814, value=None), FeatureWeight(feature='encoder__x0_One, Two, Three or More', weight=0.019676554438451073, std=0.1403482450230204, value=None), FeatureWeight(feature='encoder__x2_25 to 29 yrs', weight=0.014570068092107495, std=0.09971347989733535, value=None), FeatureWeight(feature='encoder__x2_20 to 24 yrs', weight=0.009216643231673347, std=0.09387635903813345, value=None), FeatureWeight(feature='encoder__x2_15 to 17 yrs', weight=0.009100567609865357, std=0.07164664409326814, value=None), FeatureWeight(feature='encoder__x2_50+ yrs', weight=0.008927221460996091, std=0.10190751720676254, value=None), FeatureWeight(feature='encoder__x1_Asian, non-Hispanic', weight=0.006869449986953616, std=0.06421479452984334, value=None), FeatureWeight(feature='encoder__x2_18 to 19 yrs', weight=0.0035096680171802066, std=0.09704111466893581, value=None), FeatureWeight(feature='encoder__x2_30 to 34 yrs', weight=0.0033660990924466354, std=0.08507154400941892, value=None), FeatureWeight(feature='encoder__x2_Under 15 yrs', weight=0.002254300107216709, std=0.08368978322559202, value=None)], remaining=0), decision_tree=None, highlight_spaces=None, transition_features=None, image=None)"
      ]
     },
     "execution_count": 82,
     "metadata": {},
     "output_type": "execute_result"
    }
   ],
   "source": [
    "# important features\n",
    "extracted_features = get_feature_names(gb_pipeline.named_steps[\"features\"])\n",
    "eli5.explain_weights(\n",
    "    gb_pipeline.named_steps['model'], \n",
    "    top=20, \n",
    "    feature_names=extracted_features\n",
    ")"
   ]
  },
  {
   "cell_type": "markdown",
   "id": "28f583cd",
   "metadata": {},
   "source": [
    "## Final Test Set Performance"
   ]
  },
  {
   "cell_type": "code",
   "execution_count": 83,
   "id": "db6e0bec",
   "metadata": {},
   "outputs": [
    {
     "data": {
      "text/plain": [
       "array([[562122,     19],\n",
       "       [ 57233,     13]])"
      ]
     },
     "execution_count": 83,
     "metadata": {},
     "output_type": "execute_result"
    }
   ],
   "source": [
    "# make sure the valid set was not overfit now that we chose a model\n",
    "gb_test_prediction = gb_pipeline.predict(X_test)\n",
    "confusion_matrix(y_test,gb_test_prediction)"
   ]
  },
  {
   "cell_type": "code",
   "execution_count": 84,
   "id": "e1e253cf",
   "metadata": {},
   "outputs": [
    {
     "data": {
      "text/plain": [
       "array([[562068,     15],\n",
       "       [ 57299,      6]])"
      ]
     },
     "execution_count": 84,
     "metadata": {},
     "output_type": "execute_result"
    }
   ],
   "source": [
    "confusion_matrix(y_valid,gb_prediction)"
   ]
  },
  {
   "cell_type": "code",
   "execution_count": 85,
   "id": "f71e95ad",
   "metadata": {},
   "outputs": [
    {
     "data": {
      "text/plain": [
       "{'valid': 0.500039008227642, 'test': 0.5000966453765459}"
      ]
     },
     "execution_count": 85,
     "metadata": {},
     "output_type": "execute_result"
    }
   ],
   "source": [
    "{\n",
    "    \"valid\": roc_auc_score(y_valid,gb_prediction),\n",
    "    \"test\": roc_auc_score(y_test,gb_test_prediction)\n",
    "}"
   ]
  },
  {
   "cell_type": "code",
   "execution_count": 86,
   "id": "6635b418",
   "metadata": {},
   "outputs": [],
   "source": [
    "pickle.dump(gb_pipeline, open('/opt/static/estimated.sav', 'wb'))"
   ]
  }
 ],
 "metadata": {
  "kernelspec": {
   "display_name": "Python 3 (ipykernel)",
   "language": "python",
   "name": "python3"
  },
  "language_info": {
   "codemirror_mode": {
    "name": "ipython",
    "version": 3
   },
   "file_extension": ".py",
   "mimetype": "text/x-python",
   "name": "python",
   "nbconvert_exporter": "python",
   "pygments_lexer": "ipython3",
   "version": "3.9.12"
  }
 },
 "nbformat": 4,
 "nbformat_minor": 5
}
