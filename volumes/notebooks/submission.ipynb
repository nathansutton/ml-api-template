{
 "cells": [
  {
   "cell_type": "code",
   "execution_count": 1,
   "id": "a0dcdd57",
   "metadata": {
    "scrolled": true
   },
   "outputs": [],
   "source": [
    "# basics\n",
    "import numpy as np \n",
    "import pandas as pd \n",
    "import os\n",
    "import sklearn\n",
    "import warnings\n",
    "import random\n",
    "\n",
    "# plots\n",
    "import seaborn as sns \n",
    "import matplotlib.pyplot as plt \n",
    "\n",
    "# databases\n",
    "from sqlalchemy import create_engine\n",
    "\n",
    "# sklearn\n",
    "from sklearn.impute import SimpleImputer\n",
    "from sklearn.preprocessing import OneHotEncoder, MinMaxScaler\n",
    "from sklearn.pipeline import Pipeline\n",
    "from sklearn.compose import ColumnTransformer\n",
    "from sklearn.model_selection import GridSearchCV\n",
    "from sklearn.linear_model import LogisticRegression\n",
    "from sklearn.ensemble import GradientBoostingClassifier\n",
    "from sklearn.model_selection import train_test_split\n",
    "from sklearn.metrics import confusion_matrix, precision_recall_curve, roc_auc_score\n",
    "import pickle\n",
    "\n",
    "# like i'm 5\n",
    "import eli5"
   ]
  },
  {
   "cell_type": "code",
   "execution_count": 2,
   "id": "8b63a33c",
   "metadata": {},
   "outputs": [],
   "source": [
    "# i know understand it's a pain to get feature names out of column tranformers\n",
    "# https://johaupt.github.io/blog/columnTransformer_feature_names.html\n",
    "def get_feature_names(column_transformer):\n",
    "    \"\"\"Get feature names from all transformers.\n",
    "    Returns\n",
    "    -------\n",
    "    feature_names : list of strings\n",
    "        Names of the features produced by transform.\n",
    "    \"\"\"\n",
    "    # Remove the internal helper function\n",
    "    #check_is_fitted(column_transformer)\n",
    "    \n",
    "    # Turn loopkup into function for better handling with pipeline later\n",
    "    def get_names(trans):\n",
    "        # >> Original get_feature_names() method\n",
    "        if trans == 'drop' or (\n",
    "                hasattr(column, '__len__') and not len(column)):\n",
    "            return []\n",
    "        if trans == 'passthrough':\n",
    "            if hasattr(column_transformer, '_df_columns'):\n",
    "                if ((not isinstance(column, slice))\n",
    "                        and all(isinstance(col, str) for col in column)):\n",
    "                    return column\n",
    "                else:\n",
    "                    return column_transformer._df_columns[column]\n",
    "            else:\n",
    "                indices = np.arange(column_transformer._n_features)\n",
    "                return ['x%d' % i for i in indices[column]]\n",
    "        if not hasattr(trans, 'get_feature_names'):\n",
    "        # >>> Change: Return input column names if no method avaiable\n",
    "            # Turn error into a warning\n",
    "            warnings.warn(\"Transformer %s (type %s) does not \"\n",
    "                                 \"provide get_feature_names. \"\n",
    "                                 \"Will return input column names if available\"\n",
    "                                 % (str(name), type(trans).__name__))\n",
    "            # For transformers without a get_features_names method, use the input\n",
    "            # names to the column transformer\n",
    "            if column is None:\n",
    "                return []\n",
    "            else:\n",
    "                return [name + \"__\" + f for f in column]\n",
    "\n",
    "        return [name + \"__\" + f for f in trans.get_feature_names()]\n",
    "    \n",
    "    ### Start of processing\n",
    "    feature_names = []\n",
    "    \n",
    "    # Allow transformers to be pipelines. Pipeline steps are named differently, so preprocessing is needed\n",
    "    if type(column_transformer) == sklearn.pipeline.Pipeline:\n",
    "        l_transformers = [(name, trans, None, None) for step, name, trans in column_transformer._iter()]\n",
    "    else:\n",
    "        # For column transformers, follow the original method\n",
    "        l_transformers = list(column_transformer._iter(fitted=True))\n",
    "    \n",
    "    \n",
    "    for name, trans, column, _ in l_transformers: \n",
    "        if type(trans) == sklearn.pipeline.Pipeline:\n",
    "            # Recursive call on pipeline\n",
    "            _names = get_feature_names(trans)\n",
    "            # if pipeline has no transformer that returns names\n",
    "            if len(_names)==0:\n",
    "                _names = [name + \"__\" + f for f in column]\n",
    "            feature_names.extend(_names)\n",
    "        else:\n",
    "            feature_names.extend(get_names(trans))\n",
    "    \n",
    "    return feature_names\n"
   ]
  },
  {
   "cell_type": "markdown",
   "id": "066b7e5f",
   "metadata": {},
   "source": [
    "## Exploratory Analysis"
   ]
  },
  {
   "cell_type": "code",
   "execution_count": 3,
   "id": "0664d752",
   "metadata": {},
   "outputs": [],
   "source": [
    "# read in the data\n",
    "dt = pd.read_csv(\"/opt/static/births.csv.gz\")"
   ]
  },
  {
   "cell_type": "code",
   "execution_count": 4,
   "id": "b3bc5b52",
   "metadata": {},
   "outputs": [],
   "source": [
    "# connect to the database just in case\n",
    "PGHOST = os.environ[\"PGHOST\"]\n",
    "PGUSER = os.environ[\"PGUSER\"]\n",
    "PGPASSWORD = os.environ[\"PGPASSWORD\"]\n",
    "PGPORT = os.environ[\"PGPORT\"]\n",
    "PGDATABASE = os.environ[\"PGDATABASE\"]\n",
    "engine = create_engine(\"postgresql://{}:{}@{}:{}/{}\".format(PGUSER,PGPASSWORD,PGHOST,PGPORT,PGDATABASE))\n",
    "# upload the final data to a relational database\n",
    "# dt.to_sql(\"dt\", engine, index = False)"
   ]
  },
  {
   "cell_type": "code",
   "execution_count": 5,
   "id": "8024d5ee",
   "metadata": {},
   "outputs": [
    {
     "name": "stdout",
     "output_type": "stream",
     "text": [
      "<class 'pandas.core.frame.DataFrame'>\n",
      "RangeIndex: 3096936 entries, 0 to 3096935\n",
      "Data columns (total 6 columns):\n",
      " #   Column                        Dtype \n",
      "---  ------                        ----- \n",
      " 0   age_group                     object\n",
      " 1   reported_race_ethnicity       object\n",
      " 2   previous_births               object\n",
      " 3   tobacco_use_during_pregnancy  object\n",
      " 4   adequate_prenatal_care        object\n",
      " 5   preterm_indicator             int64 \n",
      "dtypes: int64(1), object(5)\n",
      "memory usage: 141.8+ MB\n"
     ]
    }
   ],
   "source": [
    "# high level types\n",
    "dt.info()"
   ]
  },
  {
   "cell_type": "code",
   "execution_count": 6,
   "id": "07c7eb7e",
   "metadata": {},
   "outputs": [
    {
     "data": {
      "text/plain": [
       "3096344"
      ]
     },
     "execution_count": 6,
     "metadata": {},
     "output_type": "execute_result"
    }
   ],
   "source": [
    "# are there any true duplicates\n",
    "dupes = dt[dt.duplicated()]\n",
    "dupes.shape[0]"
   ]
  },
  {
   "cell_type": "code",
   "execution_count": 7,
   "id": "c7bc80cd",
   "metadata": {},
   "outputs": [
    {
     "data": {
      "text/html": [
       "<div>\n",
       "<style scoped>\n",
       "    .dataframe tbody tr th:only-of-type {\n",
       "        vertical-align: middle;\n",
       "    }\n",
       "\n",
       "    .dataframe tbody tr th {\n",
       "        vertical-align: top;\n",
       "    }\n",
       "\n",
       "    .dataframe thead th {\n",
       "        text-align: right;\n",
       "    }\n",
       "</style>\n",
       "<table border=\"1\" class=\"dataframe\">\n",
       "  <thead>\n",
       "    <tr style=\"text-align: right;\">\n",
       "      <th></th>\n",
       "      <th>age_group</th>\n",
       "      <th>reported_race_ethnicity</th>\n",
       "      <th>previous_births</th>\n",
       "      <th>tobacco_use_during_pregnancy</th>\n",
       "      <th>adequate_prenatal_care</th>\n",
       "      <th>preterm_indicator</th>\n",
       "    </tr>\n",
       "  </thead>\n",
       "  <tbody>\n",
       "    <tr>\n",
       "      <th>0</th>\n",
       "      <td>Under 15 yrs</td>\n",
       "      <td>White, non-Hispanic</td>\n",
       "      <td>None</td>\n",
       "      <td>Yes</td>\n",
       "      <td>Inadequate</td>\n",
       "      <td>0</td>\n",
       "    </tr>\n",
       "    <tr>\n",
       "      <th>1</th>\n",
       "      <td>Under 15 yrs</td>\n",
       "      <td>White, non-Hispanic</td>\n",
       "      <td>None</td>\n",
       "      <td>Yes</td>\n",
       "      <td>Inadequate</td>\n",
       "      <td>0</td>\n",
       "    </tr>\n",
       "    <tr>\n",
       "      <th>2</th>\n",
       "      <td>Under 15 yrs</td>\n",
       "      <td>White, non-Hispanic</td>\n",
       "      <td>None</td>\n",
       "      <td>Yes</td>\n",
       "      <td>Inadequate</td>\n",
       "      <td>0</td>\n",
       "    </tr>\n",
       "    <tr>\n",
       "      <th>3</th>\n",
       "      <td>Under 15 yrs</td>\n",
       "      <td>White, non-Hispanic</td>\n",
       "      <td>None</td>\n",
       "      <td>Yes</td>\n",
       "      <td>Inadequate</td>\n",
       "      <td>0</td>\n",
       "    </tr>\n",
       "    <tr>\n",
       "      <th>4</th>\n",
       "      <td>Under 15 yrs</td>\n",
       "      <td>White, non-Hispanic</td>\n",
       "      <td>None</td>\n",
       "      <td>Yes</td>\n",
       "      <td>Inadequate</td>\n",
       "      <td>0</td>\n",
       "    </tr>\n",
       "  </tbody>\n",
       "</table>\n",
       "</div>"
      ],
      "text/plain": [
       "      age_group reported_race_ethnicity previous_births  \\\n",
       "0  Under 15 yrs     White, non-Hispanic            None   \n",
       "1  Under 15 yrs     White, non-Hispanic            None   \n",
       "2  Under 15 yrs     White, non-Hispanic            None   \n",
       "3  Under 15 yrs     White, non-Hispanic            None   \n",
       "4  Under 15 yrs     White, non-Hispanic            None   \n",
       "\n",
       "  tobacco_use_during_pregnancy adequate_prenatal_care  preterm_indicator  \n",
       "0                          Yes             Inadequate                  0  \n",
       "1                          Yes             Inadequate                  0  \n",
       "2                          Yes             Inadequate                  0  \n",
       "3                          Yes             Inadequate                  0  \n",
       "4                          Yes             Inadequate                  0  "
      ]
     },
     "execution_count": 7,
     "metadata": {},
     "output_type": "execute_result"
    }
   ],
   "source": [
    "# what does it look like\n",
    "dt.head()"
   ]
  },
  {
   "cell_type": "code",
   "execution_count": 8,
   "id": "6093b128",
   "metadata": {},
   "outputs": [
    {
     "data": {
      "text/plain": [
       "count    3.096936e+06\n",
       "mean     9.220274e-02\n",
       "std      2.893120e-01\n",
       "min      0.000000e+00\n",
       "25%      0.000000e+00\n",
       "50%      0.000000e+00\n",
       "75%      0.000000e+00\n",
       "max      1.000000e+00\n",
       "Name: preterm_indicator, dtype: float64"
      ]
     },
     "execution_count": 8,
     "metadata": {},
     "output_type": "execute_result"
    }
   ],
   "source": [
    "# describe the thing you're trying to predict\n",
    "outcome = \"preterm_indicator\"\n",
    "dt[outcome].describe()"
   ]
  },
  {
   "cell_type": "code",
   "execution_count": 9,
   "id": "faad2c7d",
   "metadata": {},
   "outputs": [
    {
     "data": {
      "text/plain": [
       "0.09220274490657863"
      ]
     },
     "execution_count": 9,
     "metadata": {},
     "output_type": "execute_result"
    }
   ],
   "source": [
    "# what is the prevalance of thing we're trying to predict\n",
    "dt[outcome].sum() / dt.shape[0]"
   ]
  },
  {
   "cell_type": "code",
   "execution_count": 10,
   "id": "e21e3b0c",
   "metadata": {},
   "outputs": [
    {
     "data": {
      "text/plain": [
       "['reported_race_ethnicity',\n",
       " 'adequate_prenatal_care',\n",
       " 'previous_births',\n",
       " 'age_group',\n",
       " 'tobacco_use_during_pregnancy']"
      ]
     },
     "execution_count": 10,
     "metadata": {},
     "output_type": "execute_result"
    }
   ],
   "source": [
    "# what are the relevant features, remove identifiers and target variables\n",
    "features = list(set(dt.columns).difference(set([outcome,\"Id\"])))\n",
    "features"
   ]
  },
  {
   "cell_type": "code",
   "execution_count": 11,
   "id": "56f2feee",
   "metadata": {},
   "outputs": [
    {
     "data": {
      "text/plain": [
       "[]"
      ]
     },
     "execution_count": 11,
     "metadata": {},
     "output_type": "execute_result"
    }
   ],
   "source": [
    "# break out into numeric features and categorical features\n",
    "numerics = dt[features].select_dtypes(include='number').columns.tolist()\n",
    "numerics"
   ]
  },
  {
   "cell_type": "code",
   "execution_count": 12,
   "id": "5ac94f49",
   "metadata": {},
   "outputs": [
    {
     "data": {
      "text/plain": [
       "['reported_race_ethnicity',\n",
       " 'adequate_prenatal_care',\n",
       " 'previous_births',\n",
       " 'age_group',\n",
       " 'tobacco_use_during_pregnancy']"
      ]
     },
     "execution_count": 12,
     "metadata": {},
     "output_type": "execute_result"
    }
   ],
   "source": [
    "categoricals = dt[features].select_dtypes(exclude='number').columns.tolist()\n",
    "categoricals"
   ]
  },
  {
   "cell_type": "code",
   "execution_count": 13,
   "id": "bb6de77f",
   "metadata": {},
   "outputs": [],
   "source": [
    "# univariate boxplot of each feaure in isolation\n",
    "if len(numerics) > 0:\n",
    "    dt[numerics].boxplot(grid=False, vert=False,fontsize=15, figsize=(12,10))"
   ]
  },
  {
   "cell_type": "code",
   "execution_count": 14,
   "id": "d1baee20",
   "metadata": {},
   "outputs": [],
   "source": [
    "# look at each histogram in isolution\n",
    "if len(numerics) > 0:\n",
    "    for col in numerics:\n",
    "        dt[[col]].hist()"
   ]
  },
  {
   "cell_type": "code",
   "execution_count": 15,
   "id": "41dfe773",
   "metadata": {},
   "outputs": [],
   "source": [
    "# how are these feature correlated with each other\n",
    "if len(numerics) > 0:\n",
    "    sns.heatmap(dt[numerics].corr(), annot=True)"
   ]
  },
  {
   "cell_type": "code",
   "execution_count": 16,
   "id": "37cddcc9",
   "metadata": {
    "scrolled": true
   },
   "outputs": [],
   "source": [
    "# how are the missing values correlated to each other\n",
    "if len(numerics) > 0:\n",
    "    sns.heatmap(dt[numerics].isna().corr(), annot=True)"
   ]
  },
  {
   "cell_type": "code",
   "execution_count": 17,
   "id": "d41e823e",
   "metadata": {},
   "outputs": [
    {
     "data": {
      "text/plain": [
       "{'reported_race_ethnicity': 4,\n",
       " 'adequate_prenatal_care': 2,\n",
       " 'previous_births': 2,\n",
       " 'age_group': 10,\n",
       " 'tobacco_use_during_pregnancy': 2}"
      ]
     },
     "execution_count": 17,
     "metadata": {},
     "output_type": "execute_result"
    }
   ],
   "source": [
    "# categorical feature cardinality\n",
    "cardinality = {}\n",
    "for item in categoricals:\n",
    "    cardinality[item] = len(dt[item].unique())\n",
    "cardinality    "
   ]
  },
  {
   "cell_type": "code",
   "execution_count": 18,
   "id": "20be4c4a",
   "metadata": {},
   "outputs": [
    {
     "data": {
      "text/plain": [
       "['reported_race_ethnicity',\n",
       " 'adequate_prenatal_care',\n",
       " 'previous_births',\n",
       " 'age_group',\n",
       " 'tobacco_use_during_pregnancy']"
      ]
     },
     "execution_count": 18,
     "metadata": {},
     "output_type": "execute_result"
    }
   ],
   "source": [
    "# things that aren't features\n",
    "dates = [x for x in cardinality.keys() if \"date\" in x]\n",
    "categoricals = list(set(categoricals).difference(set(dates)))\n",
    "\n",
    "# the final features are the less cardinal categories\n",
    "categoricals = list(set(categoricals).difference(set([\"city\"])))\n",
    "categoricals"
   ]
  },
  {
   "cell_type": "markdown",
   "id": "7983974d",
   "metadata": {},
   "source": [
    "## Training and Validation Regions"
   ]
  },
  {
   "cell_type": "code",
   "execution_count": 19,
   "id": "062c0dc5",
   "metadata": {},
   "outputs": [
    {
     "data": {
      "text/plain": [
       "0"
      ]
     },
     "execution_count": 19,
     "metadata": {},
     "output_type": "execute_result"
    }
   ],
   "source": [
    "# globally remove any instance where the outcome is unknown\n",
    "if dt[outcome].isna().sum() > 0:\n",
    "    dt = dt[~dt[outcome].isna()]\n",
    "dt[outcome].isna().sum()"
   ]
  },
  {
   "cell_type": "code",
   "execution_count": 20,
   "id": "e902298e",
   "metadata": {},
   "outputs": [],
   "source": [
    "X_train, X_test, y_train, y_test = train_test_split(dt[features], dt[outcome], test_size=0.4)\n",
    "X_test, X_valid, y_test, y_valid = train_test_split(X_test, y_test, test_size=0.5)"
   ]
  },
  {
   "cell_type": "code",
   "execution_count": 21,
   "id": "07d2e063",
   "metadata": {},
   "outputs": [
    {
     "data": {
      "text/plain": [
       "{'train': 0.599999806260123,\n",
       " 'valid': 0.20000025831983612,\n",
       " 'test': 0.19999993542004096}"
      ]
     },
     "execution_count": 21,
     "metadata": {},
     "output_type": "execute_result"
    }
   ],
   "source": [
    "{\n",
    "    \"train\": X_train.shape[0] / dt.shape[0],\n",
    "    \"valid\": X_valid.shape[0] / dt.shape[0],\n",
    "    \"test\": X_test.shape[0] / dt.shape[0],\n",
    "}"
   ]
  },
  {
   "cell_type": "code",
   "execution_count": 22,
   "id": "5b1f69d0",
   "metadata": {},
   "outputs": [
    {
     "data": {
      "text/plain": [
       "{'train': 0.09217123812199265,\n",
       " 'valid': 0.09241703100479828,\n",
       " 'test': 0.0920829788161521}"
      ]
     },
     "execution_count": 22,
     "metadata": {},
     "output_type": "execute_result"
    }
   ],
   "source": [
    "{\n",
    "    \"train\": y_train.sum() / y_train.shape[0],\n",
    "    \"valid\": y_valid.sum() / y_valid.shape[0],\n",
    "    \"test\": y_test.sum() / y_test.shape[0],\n",
    "}"
   ]
  },
  {
   "cell_type": "markdown",
   "id": "29862ac6",
   "metadata": {},
   "source": [
    "## Feature pipeline"
   ]
  },
  {
   "cell_type": "code",
   "execution_count": 23,
   "id": "b0f9a8a7",
   "metadata": {},
   "outputs": [],
   "source": [
    "# now that we're roughly iid, simple pipelines transformation\n",
    "num_pipeline = Pipeline(steps=[\n",
    "    ('imputer', SimpleImputer(strategy='median')),\n",
    "    ('scaler', MinMaxScaler())\n",
    "])\n",
    "\n",
    "# it's ok to one-hot the less cardinal things\n",
    "cat_pipeline = Pipeline(steps=[\n",
    "    ('imputer', SimpleImputer(strategy='most_frequent')),\n",
    "    ('encoder', OneHotEncoder(handle_unknown='ignore'))\n",
    "])\n",
    "\n",
    "# combine them together into a single pipeline\n",
    "feature_pipeline = ColumnTransformer(transformers=[\n",
    "    ('numerics', num_pipeline, numerics),\n",
    "    ('categoricals', cat_pipeline, categoricals)\n",
    "])"
   ]
  },
  {
   "cell_type": "markdown",
   "id": "a28a053c",
   "metadata": {},
   "source": [
    "## Lasso"
   ]
  },
  {
   "cell_type": "code",
   "execution_count": 24,
   "id": "e6ba62b7",
   "metadata": {},
   "outputs": [],
   "source": [
    "# i always build a linear model first\n",
    "lm = LogisticRegression(penalty=\"l1\",solver=\"liblinear\")\n",
    "lm_pipeline = Pipeline(steps=[\n",
    "    ('features', feature_pipeline),\n",
    "    ('model', lm)\n",
    "])\n",
    "lm_pipeline.fit(X_train, y_train)\n",
    "lm_prediction = lm_pipeline.predict(X_valid)"
   ]
  },
  {
   "cell_type": "code",
   "execution_count": 25,
   "id": "715cabf8",
   "metadata": {},
   "outputs": [],
   "source": [
    "# summarize\n",
    "lm_prediction = lm_pipeline.predict(X_valid)"
   ]
  },
  {
   "cell_type": "markdown",
   "id": "41d410b0",
   "metadata": {},
   "source": [
    "## Boosted Tree"
   ]
  },
  {
   "cell_type": "code",
   "execution_count": 26,
   "id": "6d0c62e4",
   "metadata": {},
   "outputs": [],
   "source": [
    "# choose a reasonable depth without overfitting\n",
    "gb = GradientBoostingClassifier(max_depth=3)\n",
    "gb_pipeline = Pipeline(steps=[\n",
    "    ('features', feature_pipeline),\n",
    "    ('model', gb)\n",
    "])\n",
    "gb_pipeline.fit(X_train, y_train)\n",
    "gb_prediction = gb_pipeline.predict(X_valid)"
   ]
  },
  {
   "cell_type": "markdown",
   "id": "781331e6",
   "metadata": {},
   "source": [
    "## Compare models"
   ]
  },
  {
   "cell_type": "markdown",
   "id": "f2319306",
   "metadata": {},
   "source": [
    "### Confusion Matrix"
   ]
  },
  {
   "cell_type": "code",
   "execution_count": 27,
   "id": "9f3ad7f9",
   "metadata": {},
   "outputs": [
    {
     "data": {
      "text/plain": [
       "array([[562145,      1],\n",
       "       [ 57242,      0]])"
      ]
     },
     "execution_count": 27,
     "metadata": {},
     "output_type": "execute_result"
    }
   ],
   "source": [
    "# confusion matrix\n",
    "confusion_matrix(y_valid,gb_prediction)"
   ]
  },
  {
   "cell_type": "code",
   "execution_count": 28,
   "id": "727ef9de",
   "metadata": {},
   "outputs": [
    {
     "data": {
      "text/plain": [
       "array([[562146,      0],\n",
       "       [ 57242,      0]])"
      ]
     },
     "execution_count": 28,
     "metadata": {},
     "output_type": "execute_result"
    }
   ],
   "source": [
    "# confusion matrix\n",
    "confusion_matrix(y_valid,lm_prediction)"
   ]
  },
  {
   "cell_type": "markdown",
   "id": "5b4f75ee",
   "metadata": {},
   "source": [
    "### Area under the ROC curve"
   ]
  },
  {
   "cell_type": "code",
   "execution_count": 29,
   "id": "18ea0dd7",
   "metadata": {},
   "outputs": [
    {
     "data": {
      "text/plain": [
       "0.5"
      ]
     },
     "execution_count": 29,
     "metadata": {},
     "output_type": "execute_result"
    }
   ],
   "source": [
    "roc_auc_score(y_valid,lm_prediction)"
   ]
  },
  {
   "cell_type": "code",
   "execution_count": 30,
   "id": "001e7c1f",
   "metadata": {},
   "outputs": [
    {
     "data": {
      "text/plain": [
       "0.49999911055135143"
      ]
     },
     "execution_count": 30,
     "metadata": {},
     "output_type": "execute_result"
    }
   ],
   "source": [
    "roc_auc_score(y_valid,gb_prediction)"
   ]
  },
  {
   "cell_type": "markdown",
   "id": "e4b9b750",
   "metadata": {},
   "source": [
    "### Precision and recall"
   ]
  },
  {
   "cell_type": "code",
   "execution_count": 31,
   "id": "15369cef",
   "metadata": {},
   "outputs": [
    {
     "data": {
      "image/png": "[encoded data removed]",
      "text/plain": [
       "<Figure size 432x288 with 1 Axes>"
      ]
     },
     "metadata": {
      "needs_background": "light"
     },
     "output_type": "display_data"
    }
   ],
   "source": [
    "# precision and recall\n",
    "lm_precision, lm_recall, lm_thresholds = precision_recall_curve(y_valid, lm_prediction)\n",
    "gb_precision, gb_recall, gb_thresholds = precision_recall_curve(y_valid, gb_prediction)\n",
    "plt.plot(lm_precision, lm_recall, label = \"linear\")\n",
    "plt.plot(gb_precision, gb_recall, label = \"boosted\")\n",
    "plt.legend()\n",
    "plt.show()"
   ]
  },
  {
   "cell_type": "markdown",
   "id": "58b2ff0d",
   "metadata": {},
   "source": [
    "### Important features"
   ]
  },
  {
   "cell_type": "code",
   "execution_count": 32,
   "id": "8897da0d",
   "metadata": {},
   "outputs": [
    {
     "name": "stderr",
     "output_type": "stream",
     "text": [
      "/tmp/ipykernel_110/4230822473.py:32: UserWarning: Transformer imputer (type SimpleImputer) does not provide get_feature_names. Will return input column names if available\n",
      "  warnings.warn(\"Transformer %s (type %s) does not \"\n",
      "/tmp/ipykernel_110/4230822473.py:32: UserWarning: Transformer scaler (type MinMaxScaler) does not provide get_feature_names. Will return input column names if available\n",
      "  warnings.warn(\"Transformer %s (type %s) does not \"\n",
      "/opt/conda/lib/python3.9/site-packages/sklearn/utils/deprecation.py:87: FutureWarning: Function get_feature_names is deprecated; get_feature_names is deprecated in 1.0 and will be removed in 1.2. Please use get_feature_names_out instead.\n",
      "  warnings.warn(msg, category=FutureWarning)\n"
     ]
    },
    {
     "data": {
      "text/html": [
       "\n",
       "    <style>\n",
       "    table.eli5-weights tr:hover {\n",
       "        filter: brightness(85%);\n",
       "    }\n",
       "</style>\n",
       "\n",
       "\n",
       "\n",
       "    \n",
       "\n",
       "    \n",
       "\n",
       "    \n",
       "\n",
       "    \n",
       "\n",
       "    \n",
       "\n",
       "    \n",
       "\n",
       "\n",
       "    \n",
       "\n",
       "    \n",
       "\n",
       "    \n",
       "\n",
       "    \n",
       "        \n",
       "\n",
       "    \n",
       "\n",
       "        \n",
       "            \n",
       "                \n",
       "                \n",
       "    \n",
       "        <p style=\"margin-bottom: 0.5em; margin-top: 0em\">\n",
       "            <b>\n",
       "    \n",
       "        y=1\n",
       "    \n",
       "</b>\n",
       "\n",
       "top features\n",
       "        </p>\n",
       "    \n",
       "    <table class=\"eli5-weights\"\n",
       "           style=\"border-collapse: collapse; border: none; margin-top: 0em; table-layout: auto; margin-bottom: 2em;\">\n",
       "        <thead>\n",
       "        <tr style=\"border: none;\">\n",
       "            \n",
       "                <th style=\"padding: 0 1em 0 0.5em; text-align: right; border: none;\" title=\"Feature weights. Note that weights do not account for feature value scales, so if feature values have different scales, features with highest weights might not be the most important.\">\n",
       "                    Weight<sup>?</sup>\n",
       "                </th>\n",
       "            \n",
       "            <th style=\"padding: 0 0.5em 0 0.5em; text-align: left; border: none;\">Feature</th>\n",
       "            \n",
       "        </tr>\n",
       "        </thead>\n",
       "        <tbody>\n",
       "        \n",
       "            <tr style=\"background-color: hsl(120, 100.00%, 90.61%); border: none;\">\n",
       "    <td style=\"padding: 0 1em 0 0.5em; text-align: right; border: none;\">\n",
       "        +0.420\n",
       "    </td>\n",
       "    <td style=\"padding: 0 0.5em 0 0.5em; text-align: left; border: none;\">\n",
       "        encoder__x3_50+ yrs\n",
       "    </td>\n",
       "    \n",
       "</tr>\n",
       "        \n",
       "            <tr style=\"background-color: hsl(120, 100.00%, 96.34%); border: none;\">\n",
       "    <td style=\"padding: 0 1em 0 0.5em; text-align: right; border: none;\">\n",
       "        +0.109\n",
       "    </td>\n",
       "    <td style=\"padding: 0 0.5em 0 0.5em; text-align: left; border: none;\">\n",
       "        &lt;BIAS&gt;\n",
       "    </td>\n",
       "    \n",
       "</tr>\n",
       "        \n",
       "            <tr style=\"background-color: hsl(120, 100.00%, 96.45%); border: none;\">\n",
       "    <td style=\"padding: 0 1em 0 0.5em; text-align: right; border: none;\">\n",
       "        +0.105\n",
       "    </td>\n",
       "    <td style=\"padding: 0 0.5em 0 0.5em; text-align: left; border: none;\">\n",
       "        encoder__x4_Yes\n",
       "    </td>\n",
       "    \n",
       "</tr>\n",
       "        \n",
       "            <tr style=\"background-color: hsl(120, 100.00%, 96.61%); border: none;\">\n",
       "    <td style=\"padding: 0 1em 0 0.5em; text-align: right; border: none;\">\n",
       "        +0.098\n",
       "    </td>\n",
       "    <td style=\"padding: 0 0.5em 0 0.5em; text-align: left; border: none;\">\n",
       "        encoder__x2_None\n",
       "    </td>\n",
       "    \n",
       "</tr>\n",
       "        \n",
       "            <tr style=\"background-color: hsl(120, 100.00%, 96.65%); border: none;\">\n",
       "    <td style=\"padding: 0 1em 0 0.5em; text-align: right; border: none;\">\n",
       "        +0.097\n",
       "    </td>\n",
       "    <td style=\"padding: 0 0.5em 0 0.5em; text-align: left; border: none;\">\n",
       "        encoder__x2_One, Two, Three or More\n",
       "    </td>\n",
       "    \n",
       "</tr>\n",
       "        \n",
       "        \n",
       "            <tr style=\"background-color: hsl(120, 100.00%, 96.65%); border: none;\">\n",
       "                <td colspan=\"2\" style=\"padding: 0 0.5em 0 0.5em; text-align: center; border: none; white-space: nowrap;\">\n",
       "                    <i>&hellip; 1 more positive &hellip;</i>\n",
       "                </td>\n",
       "            </tr>\n",
       "        \n",
       "\n",
       "        \n",
       "        \n",
       "            <tr style=\"background-color: hsl(0, 100.00%, 98.70%); border: none;\">\n",
       "    <td style=\"padding: 0 1em 0 0.5em; text-align: right; border: none;\">\n",
       "        -0.025\n",
       "    </td>\n",
       "    <td style=\"padding: 0 0.5em 0 0.5em; text-align: left; border: none;\">\n",
       "        encoder__x1_Adequate\n",
       "    </td>\n",
       "    \n",
       "</tr>\n",
       "        \n",
       "            <tr style=\"background-color: hsl(0, 100.00%, 92.01%); border: none;\">\n",
       "    <td style=\"padding: 0 1em 0 0.5em; text-align: right; border: none;\">\n",
       "        -0.334\n",
       "    </td>\n",
       "    <td style=\"padding: 0 0.5em 0 0.5em; text-align: left; border: none;\">\n",
       "        encoder__x0_Black, non-Hispanic\n",
       "    </td>\n",
       "    \n",
       "</tr>\n",
       "        \n",
       "            <tr style=\"background-color: hsl(0, 100.00%, 91.77%); border: none;\">\n",
       "    <td style=\"padding: 0 1em 0 0.5em; text-align: right; border: none;\">\n",
       "        -0.349\n",
       "    </td>\n",
       "    <td style=\"padding: 0 0.5em 0 0.5em; text-align: left; border: none;\">\n",
       "        encoder__x4_No\n",
       "    </td>\n",
       "    \n",
       "</tr>\n",
       "        \n",
       "            <tr style=\"background-color: hsl(0, 100.00%, 87.88%); border: none;\">\n",
       "    <td style=\"padding: 0 1em 0 0.5em; text-align: right; border: none;\">\n",
       "        -0.606\n",
       "    </td>\n",
       "    <td style=\"padding: 0 0.5em 0 0.5em; text-align: left; border: none;\">\n",
       "        encoder__x3_Under 15 yrs\n",
       "    </td>\n",
       "    \n",
       "</tr>\n",
       "        \n",
       "            <tr style=\"background-color: hsl(0, 100.00%, 86.95%); border: none;\">\n",
       "    <td style=\"padding: 0 1em 0 0.5em; text-align: right; border: none;\">\n",
       "        -0.673\n",
       "    </td>\n",
       "    <td style=\"padding: 0 0.5em 0 0.5em; text-align: left; border: none;\">\n",
       "        encoder__x1_Inadequate\n",
       "    </td>\n",
       "    \n",
       "</tr>\n",
       "        \n",
       "            <tr style=\"background-color: hsl(0, 100.00%, 86.22%); border: none;\">\n",
       "    <td style=\"padding: 0 1em 0 0.5em; text-align: right; border: none;\">\n",
       "        -0.727\n",
       "    </td>\n",
       "    <td style=\"padding: 0 0.5em 0 0.5em; text-align: left; border: none;\">\n",
       "        encoder__x3_40 to 44 yrs\n",
       "    </td>\n",
       "    \n",
       "</tr>\n",
       "        \n",
       "            <tr style=\"background-color: hsl(0, 100.00%, 85.34%); border: none;\">\n",
       "    <td style=\"padding: 0 1em 0 0.5em; text-align: right; border: none;\">\n",
       "        -0.795\n",
       "    </td>\n",
       "    <td style=\"padding: 0 0.5em 0 0.5em; text-align: left; border: none;\">\n",
       "        encoder__x0_Hispanic (of any race)\n",
       "    </td>\n",
       "    \n",
       "</tr>\n",
       "        \n",
       "            <tr style=\"background-color: hsl(0, 100.00%, 83.55%); border: none;\">\n",
       "    <td style=\"padding: 0 1em 0 0.5em; text-align: right; border: none;\">\n",
       "        -0.937\n",
       "    </td>\n",
       "    <td style=\"padding: 0 0.5em 0 0.5em; text-align: left; border: none;\">\n",
       "        encoder__x3_15 to 17 yrs\n",
       "    </td>\n",
       "    \n",
       "</tr>\n",
       "        \n",
       "            <tr style=\"background-color: hsl(0, 100.00%, 83.25%); border: none;\">\n",
       "    <td style=\"padding: 0 1em 0 0.5em; text-align: right; border: none;\">\n",
       "        -0.962\n",
       "    </td>\n",
       "    <td style=\"padding: 0 0.5em 0 0.5em; text-align: left; border: none;\">\n",
       "        encoder__x3_35 to 39 yrs\n",
       "    </td>\n",
       "    \n",
       "</tr>\n",
       "        \n",
       "            <tr style=\"background-color: hsl(0, 100.00%, 82.41%); border: none;\">\n",
       "    <td style=\"padding: 0 1em 0 0.5em; text-align: right; border: none;\">\n",
       "        -1.031\n",
       "    </td>\n",
       "    <td style=\"padding: 0 0.5em 0 0.5em; text-align: left; border: none;\">\n",
       "        encoder__x0_Asian, non-Hispanic\n",
       "    </td>\n",
       "    \n",
       "</tr>\n",
       "        \n",
       "            <tr style=\"background-color: hsl(0, 100.00%, 81.80%); border: none;\">\n",
       "    <td style=\"padding: 0 1em 0 0.5em; text-align: right; border: none;\">\n",
       "        -1.082\n",
       "    </td>\n",
       "    <td style=\"padding: 0 0.5em 0 0.5em; text-align: left; border: none;\">\n",
       "        encoder__x0_White, non-Hispanic\n",
       "    </td>\n",
       "    \n",
       "</tr>\n",
       "        \n",
       "            <tr style=\"background-color: hsl(0, 100.00%, 81.46%); border: none;\">\n",
       "    <td style=\"padding: 0 1em 0 0.5em; text-align: right; border: none;\">\n",
       "        -1.111\n",
       "    </td>\n",
       "    <td style=\"padding: 0 0.5em 0 0.5em; text-align: left; border: none;\">\n",
       "        encoder__x3_18 to 19 yrs\n",
       "    </td>\n",
       "    \n",
       "</tr>\n",
       "        \n",
       "            <tr style=\"background-color: hsl(0, 100.00%, 81.23%); border: none;\">\n",
       "    <td style=\"padding: 0 1em 0 0.5em; text-align: right; border: none;\">\n",
       "        -1.131\n",
       "    </td>\n",
       "    <td style=\"padding: 0 0.5em 0 0.5em; text-align: left; border: none;\">\n",
       "        encoder__x3_30 to 34 yrs\n",
       "    </td>\n",
       "    \n",
       "</tr>\n",
       "        \n",
       "            <tr style=\"background-color: hsl(0, 100.00%, 80.26%); border: none;\">\n",
       "    <td style=\"padding: 0 1em 0 0.5em; text-align: right; border: none;\">\n",
       "        -1.216\n",
       "    </td>\n",
       "    <td style=\"padding: 0 0.5em 0 0.5em; text-align: left; border: none;\">\n",
       "        encoder__x3_20 to 24 yrs\n",
       "    </td>\n",
       "    \n",
       "</tr>\n",
       "        \n",
       "            <tr style=\"background-color: hsl(0, 100.00%, 80.00%); border: none;\">\n",
       "    <td style=\"padding: 0 1em 0 0.5em; text-align: right; border: none;\">\n",
       "        -1.238\n",
       "    </td>\n",
       "    <td style=\"padding: 0 0.5em 0 0.5em; text-align: left; border: none;\">\n",
       "        encoder__x3_25 to 29 yrs\n",
       "    </td>\n",
       "    \n",
       "</tr>\n",
       "        \n",
       "\n",
       "        </tbody>\n",
       "    </table>\n",
       "\n",
       "            \n",
       "        \n",
       "\n",
       "        \n",
       "\n",
       "\n",
       "\n",
       "    \n",
       "\n",
       "    \n",
       "\n",
       "    \n",
       "\n",
       "    \n",
       "\n",
       "\n",
       "    \n",
       "\n",
       "    \n",
       "\n",
       "    \n",
       "\n",
       "    \n",
       "\n",
       "    \n",
       "\n",
       "    \n",
       "\n",
       "\n",
       "    \n",
       "\n",
       "    \n",
       "\n",
       "    \n",
       "\n",
       "    \n",
       "\n",
       "    \n",
       "\n",
       "    \n",
       "\n",
       "\n",
       "\n"
      ],
      "text/plain": [
       "Explanation(estimator=\"LogisticRegression(penalty='l1', solver='liblinear')\", description=\"\\nFeatures with largest coefficients.\\nCaveats:\\n1. Be careful with features which are not\\n   independent - weights don't show their importance.\\n2. If scale of input features is different then scale of coefficients\\n   will also be different, making direct comparison between coefficient values\\n   incorrect.\\n3. Depending on regularization, rare features sometimes may have high\\n   coefficients; this doesn't mean they contribute much to the\\n   classification result for most examples.\\n\", error=None, method='linear model', is_regression=False, targets=[TargetExplanation(target=1, feature_weights=FeatureWeights(pos=[FeatureWeight(feature='encoder__x3_50+ yrs', weight=0.4202897530172515, std=None, value=None), FeatureWeight(feature='<BIAS>', weight=0.10935303654685544, std=None, value=None), FeatureWeight(feature='encoder__x4_Yes', weight=0.10481048049372287, std=None, value=None), FeatureWeight(feature='encoder__x2_None', weight=0.09812807140599769, std=None, value=None), FeatureWeight(feature='encoder__x2_One, Two, Three or More', weight=0.09654788250533604, std=None, value=None)], neg=[FeatureWeight(feature='encoder__x3_25 to 29 yrs', weight=-1.2384542677136952, std=None, value=None), FeatureWeight(feature='encoder__x3_20 to 24 yrs', weight=-1.2156024222474364, std=None, value=None), FeatureWeight(feature='encoder__x3_30 to 34 yrs', weight=-1.1313352895160234, std=None, value=None), FeatureWeight(feature='encoder__x3_18 to 19 yrs', weight=-1.1110719541998302, std=None, value=None), FeatureWeight(feature='encoder__x0_White, non-Hispanic', weight=-1.0823328058025752, std=None, value=None), FeatureWeight(feature='encoder__x0_Asian, non-Hispanic', weight=-1.0312969605369582, std=None, value=None), FeatureWeight(feature='encoder__x3_35 to 39 yrs', weight=-0.9615719084979113, std=None, value=None), FeatureWeight(feature='encoder__x3_15 to 17 yrs', weight=-0.9368056046658314, std=None, value=None), FeatureWeight(feature='encoder__x0_Hispanic (of any race)', weight=-0.7949595188633221, std=None, value=None), FeatureWeight(feature='encoder__x3_40 to 44 yrs', weight=-0.7274314415535823, std=None, value=None), FeatureWeight(feature='encoder__x1_Inadequate', weight=-0.6729338098428219, std=None, value=None), FeatureWeight(feature='encoder__x3_Under 15 yrs', weight=-0.6058028234559955, std=None, value=None), FeatureWeight(feature='encoder__x4_No', weight=-0.34859980021077625, std=None, value=None), FeatureWeight(feature='encoder__x0_Black, non-Hispanic', weight=-0.33367965019865503, std=None, value=None), FeatureWeight(feature='encoder__x1_Adequate', weight=-0.024907260689583214, std=None, value=None)], pos_remaining=1, neg_remaining=0), proba=None, score=None, weighted_spans=None, heatmap=None)], feature_importances=None, decision_tree=None, highlight_spaces=None, transition_features=None, image=None)"
      ]
     },
     "execution_count": 32,
     "metadata": {},
     "output_type": "execute_result"
    }
   ],
   "source": [
    "# important features\n",
    "extracted_features = get_feature_names(lm_pipeline.named_steps[\"features\"])\n",
    "eli5.explain_weights(\n",
    "    lm_pipeline.named_steps['model'], \n",
    "    top=20, \n",
    "    feature_names=extracted_features\n",
    ")"
   ]
  },
  {
   "cell_type": "code",
   "execution_count": 33,
   "id": "e94a7b10",
   "metadata": {},
   "outputs": [
    {
     "name": "stderr",
     "output_type": "stream",
     "text": [
      "/tmp/ipykernel_110/4230822473.py:32: UserWarning: Transformer imputer (type SimpleImputer) does not provide get_feature_names. Will return input column names if available\n",
      "  warnings.warn(\"Transformer %s (type %s) does not \"\n",
      "/tmp/ipykernel_110/4230822473.py:32: UserWarning: Transformer scaler (type MinMaxScaler) does not provide get_feature_names. Will return input column names if available\n",
      "  warnings.warn(\"Transformer %s (type %s) does not \"\n"
     ]
    },
    {
     "data": {
      "text/html": [
       "\n",
       "    <style>\n",
       "    table.eli5-weights tr:hover {\n",
       "        filter: brightness(85%);\n",
       "    }\n",
       "</style>\n",
       "\n",
       "\n",
       "\n",
       "    \n",
       "\n",
       "    \n",
       "\n",
       "    \n",
       "\n",
       "    \n",
       "\n",
       "    \n",
       "\n",
       "    \n",
       "\n",
       "\n",
       "    \n",
       "\n",
       "    \n",
       "\n",
       "    \n",
       "\n",
       "    \n",
       "\n",
       "    \n",
       "\n",
       "    \n",
       "\n",
       "\n",
       "    \n",
       "\n",
       "    \n",
       "\n",
       "    \n",
       "\n",
       "    \n",
       "\n",
       "    \n",
       "        <table class=\"eli5-weights eli5-feature-importances\" style=\"border-collapse: collapse; border: none; margin-top: 0em; table-layout: auto;\">\n",
       "    <thead>\n",
       "    <tr style=\"border: none;\">\n",
       "        <th style=\"padding: 0 1em 0 0.5em; text-align: right; border: none;\">Weight</th>\n",
       "        <th style=\"padding: 0 0.5em 0 0.5em; text-align: left; border: none;\">Feature</th>\n",
       "    </tr>\n",
       "    </thead>\n",
       "    <tbody>\n",
       "    \n",
       "        <tr style=\"background-color: hsl(120, 100.00%, 80.00%); border: none;\">\n",
       "            <td style=\"padding: 0 1em 0 0.5em; text-align: right; border: none;\">\n",
       "                0.2759\n",
       "                \n",
       "                    &plusmn; 0.2264\n",
       "                \n",
       "            </td>\n",
       "            <td style=\"padding: 0 0.5em 0 0.5em; text-align: left; border: none;\">\n",
       "                encoder__x0_Black, non-Hispanic\n",
       "            </td>\n",
       "        </tr>\n",
       "    \n",
       "        <tr style=\"background-color: hsl(120, 100.00%, 83.09%); border: none;\">\n",
       "            <td style=\"padding: 0 1em 0 0.5em; text-align: right; border: none;\">\n",
       "                0.2171\n",
       "                \n",
       "                    &plusmn; 0.2378\n",
       "                \n",
       "            </td>\n",
       "            <td style=\"padding: 0 0.5em 0 0.5em; text-align: left; border: none;\">\n",
       "                encoder__x1_Inadequate\n",
       "            </td>\n",
       "        </tr>\n",
       "    \n",
       "        <tr style=\"background-color: hsl(120, 100.00%, 87.00%); border: none;\">\n",
       "            <td style=\"padding: 0 1em 0 0.5em; text-align: right; border: none;\">\n",
       "                0.1491\n",
       "                \n",
       "                    &plusmn; 0.1940\n",
       "                \n",
       "            </td>\n",
       "            <td style=\"padding: 0 0.5em 0 0.5em; text-align: left; border: none;\">\n",
       "                encoder__x1_Adequate\n",
       "            </td>\n",
       "        </tr>\n",
       "    \n",
       "        <tr style=\"background-color: hsl(120, 100.00%, 92.92%); border: none;\">\n",
       "            <td style=\"padding: 0 1em 0 0.5em; text-align: right; border: none;\">\n",
       "                0.0626\n",
       "                \n",
       "                    &plusmn; 0.1396\n",
       "                \n",
       "            </td>\n",
       "            <td style=\"padding: 0 0.5em 0 0.5em; text-align: left; border: none;\">\n",
       "                encoder__x4_Yes\n",
       "            </td>\n",
       "        </tr>\n",
       "    \n",
       "        <tr style=\"background-color: hsl(120, 100.00%, 95.01%); border: none;\">\n",
       "            <td style=\"padding: 0 1em 0 0.5em; text-align: right; border: none;\">\n",
       "                0.0380\n",
       "                \n",
       "                    &plusmn; 0.1493\n",
       "                \n",
       "            </td>\n",
       "            <td style=\"padding: 0 0.5em 0 0.5em; text-align: left; border: none;\">\n",
       "                encoder__x4_No\n",
       "            </td>\n",
       "        </tr>\n",
       "    \n",
       "        <tr style=\"background-color: hsl(120, 100.00%, 95.46%); border: none;\">\n",
       "            <td style=\"padding: 0 1em 0 0.5em; text-align: right; border: none;\">\n",
       "                0.0332\n",
       "                \n",
       "                    &plusmn; 0.1113\n",
       "                \n",
       "            </td>\n",
       "            <td style=\"padding: 0 0.5em 0 0.5em; text-align: left; border: none;\">\n",
       "                encoder__x0_Hispanic (of any race)\n",
       "            </td>\n",
       "        </tr>\n",
       "    \n",
       "        <tr style=\"background-color: hsl(120, 100.00%, 95.46%); border: none;\">\n",
       "            <td style=\"padding: 0 1em 0 0.5em; text-align: right; border: none;\">\n",
       "                0.0332\n",
       "                \n",
       "                    &plusmn; 0.1967\n",
       "                \n",
       "            </td>\n",
       "            <td style=\"padding: 0 0.5em 0 0.5em; text-align: left; border: none;\">\n",
       "                encoder__x3_40 to 44 yrs\n",
       "            </td>\n",
       "        </tr>\n",
       "    \n",
       "        <tr style=\"background-color: hsl(120, 100.00%, 95.70%); border: none;\">\n",
       "            <td style=\"padding: 0 1em 0 0.5em; text-align: right; border: none;\">\n",
       "                0.0307\n",
       "                \n",
       "                    &plusmn; 0.2126\n",
       "                \n",
       "            </td>\n",
       "            <td style=\"padding: 0 0.5em 0 0.5em; text-align: left; border: none;\">\n",
       "                encoder__x3_45 to 49 yrs\n",
       "            </td>\n",
       "        </tr>\n",
       "    \n",
       "        <tr style=\"background-color: hsl(120, 100.00%, 95.83%); border: none;\">\n",
       "            <td style=\"padding: 0 1em 0 0.5em; text-align: right; border: none;\">\n",
       "                0.0294\n",
       "                \n",
       "                    &plusmn; 0.1866\n",
       "                \n",
       "            </td>\n",
       "            <td style=\"padding: 0 0.5em 0 0.5em; text-align: left; border: none;\">\n",
       "                encoder__x0_White, non-Hispanic\n",
       "            </td>\n",
       "        </tr>\n",
       "    \n",
       "        <tr style=\"background-color: hsl(120, 100.00%, 95.96%); border: none;\">\n",
       "            <td style=\"padding: 0 1em 0 0.5em; text-align: right; border: none;\">\n",
       "                0.0280\n",
       "                \n",
       "                    &plusmn; 0.2021\n",
       "                \n",
       "            </td>\n",
       "            <td style=\"padding: 0 0.5em 0 0.5em; text-align: left; border: none;\">\n",
       "                encoder__x3_35 to 39 yrs\n",
       "            </td>\n",
       "        </tr>\n",
       "    \n",
       "        <tr style=\"background-color: hsl(120, 100.00%, 96.17%); border: none;\">\n",
       "            <td style=\"padding: 0 1em 0 0.5em; text-align: right; border: none;\">\n",
       "                0.0261\n",
       "                \n",
       "                    &plusmn; 0.2834\n",
       "                \n",
       "            </td>\n",
       "            <td style=\"padding: 0 0.5em 0 0.5em; text-align: left; border: none;\">\n",
       "                encoder__x2_One, Two, Three or More\n",
       "            </td>\n",
       "        </tr>\n",
       "    \n",
       "        <tr style=\"background-color: hsl(120, 100.00%, 96.81%); border: none;\">\n",
       "            <td style=\"padding: 0 1em 0 0.5em; text-align: right; border: none;\">\n",
       "                0.0200\n",
       "                \n",
       "                    &plusmn; 0.2743\n",
       "                \n",
       "            </td>\n",
       "            <td style=\"padding: 0 0.5em 0 0.5em; text-align: left; border: none;\">\n",
       "                encoder__x2_None\n",
       "            </td>\n",
       "        </tr>\n",
       "    \n",
       "        <tr style=\"background-color: hsl(120, 100.00%, 97.43%); border: none;\">\n",
       "            <td style=\"padding: 0 1em 0 0.5em; text-align: right; border: none;\">\n",
       "                0.0147\n",
       "                \n",
       "                    &plusmn; 0.1834\n",
       "                \n",
       "            </td>\n",
       "            <td style=\"padding: 0 0.5em 0 0.5em; text-align: left; border: none;\">\n",
       "                encoder__x3_25 to 29 yrs\n",
       "            </td>\n",
       "        </tr>\n",
       "    \n",
       "        <tr style=\"background-color: hsl(120, 100.00%, 98.18%); border: none;\">\n",
       "            <td style=\"padding: 0 1em 0 0.5em; text-align: right; border: none;\">\n",
       "                0.0090\n",
       "                \n",
       "                    &plusmn; 0.1611\n",
       "                \n",
       "            </td>\n",
       "            <td style=\"padding: 0 0.5em 0 0.5em; text-align: left; border: none;\">\n",
       "                encoder__x3_20 to 24 yrs\n",
       "            </td>\n",
       "        </tr>\n",
       "    \n",
       "        <tr style=\"background-color: hsl(120, 100.00%, 98.33%); border: none;\">\n",
       "            <td style=\"padding: 0 1em 0 0.5em; text-align: right; border: none;\">\n",
       "                0.0079\n",
       "                \n",
       "                    &plusmn; 0.1260\n",
       "                \n",
       "            </td>\n",
       "            <td style=\"padding: 0 0.5em 0 0.5em; text-align: left; border: none;\">\n",
       "                encoder__x0_Asian, non-Hispanic\n",
       "            </td>\n",
       "        </tr>\n",
       "    \n",
       "        <tr style=\"background-color: hsl(120, 100.00%, 98.33%); border: none;\">\n",
       "            <td style=\"padding: 0 1em 0 0.5em; text-align: right; border: none;\">\n",
       "                0.0079\n",
       "                \n",
       "                    &plusmn; 0.1232\n",
       "                \n",
       "            </td>\n",
       "            <td style=\"padding: 0 0.5em 0 0.5em; text-align: left; border: none;\">\n",
       "                encoder__x3_15 to 17 yrs\n",
       "            </td>\n",
       "        </tr>\n",
       "    \n",
       "        <tr style=\"background-color: hsl(120, 100.00%, 98.38%); border: none;\">\n",
       "            <td style=\"padding: 0 1em 0 0.5em; text-align: right; border: none;\">\n",
       "                0.0076\n",
       "                \n",
       "                    &plusmn; 0.2015\n",
       "                \n",
       "            </td>\n",
       "            <td style=\"padding: 0 0.5em 0 0.5em; text-align: left; border: none;\">\n",
       "                encoder__x3_50+ yrs\n",
       "            </td>\n",
       "        </tr>\n",
       "    \n",
       "        <tr style=\"background-color: hsl(120, 100.00%, 98.95%); border: none;\">\n",
       "            <td style=\"padding: 0 1em 0 0.5em; text-align: right; border: none;\">\n",
       "                0.0041\n",
       "                \n",
       "                    &plusmn; 0.1687\n",
       "                \n",
       "            </td>\n",
       "            <td style=\"padding: 0 0.5em 0 0.5em; text-align: left; border: none;\">\n",
       "                encoder__x3_30 to 34 yrs\n",
       "            </td>\n",
       "        </tr>\n",
       "    \n",
       "        <tr style=\"background-color: hsl(120, 100.00%, 99.11%); border: none;\">\n",
       "            <td style=\"padding: 0 1em 0 0.5em; text-align: right; border: none;\">\n",
       "                0.0032\n",
       "                \n",
       "                    &plusmn; 0.1682\n",
       "                \n",
       "            </td>\n",
       "            <td style=\"padding: 0 0.5em 0 0.5em; text-align: left; border: none;\">\n",
       "                encoder__x3_18 to 19 yrs\n",
       "            </td>\n",
       "        </tr>\n",
       "    \n",
       "        <tr style=\"background-color: hsl(120, 100.00%, 99.30%); border: none;\">\n",
       "            <td style=\"padding: 0 1em 0 0.5em; text-align: right; border: none;\">\n",
       "                0.0023\n",
       "                \n",
       "                    &plusmn; 0.1542\n",
       "                \n",
       "            </td>\n",
       "            <td style=\"padding: 0 0.5em 0 0.5em; text-align: left; border: none;\">\n",
       "                encoder__x3_Under 15 yrs\n",
       "            </td>\n",
       "        </tr>\n",
       "    \n",
       "    \n",
       "    </tbody>\n",
       "</table>\n",
       "    \n",
       "\n",
       "    \n",
       "\n",
       "\n",
       "    \n",
       "\n",
       "    \n",
       "\n",
       "    \n",
       "\n",
       "    \n",
       "\n",
       "    \n",
       "\n",
       "    \n",
       "\n",
       "\n",
       "\n"
      ],
      "text/plain": [
       "Explanation(estimator='GradientBoostingClassifier()', description='\\nRandom forest feature importances; values are numbers 0 <= x <= 1;\\nall values sum to 1.\\n', error=None, method='feature importances', is_regression=False, targets=None, feature_importances=FeatureImportances(importances=[FeatureWeight(feature='encoder__x0_Black, non-Hispanic', weight=0.2759371465575068, std=0.11320780299675381, value=None), FeatureWeight(feature='encoder__x1_Inadequate', weight=0.2170829409906714, std=0.11890973684818222, value=None), FeatureWeight(feature='encoder__x1_Adequate', weight=0.1490594958032849, std=0.09697842690988928, value=None), FeatureWeight(feature='encoder__x4_Yes', weight=0.06255825692602518, std=0.06978166244095457, value=None), FeatureWeight(feature='encoder__x4_No', weight=0.03797404414400851, std=0.07466814085145163, value=None), FeatureWeight(feature='encoder__x0_Hispanic (of any race)', weight=0.03320564133011033, std=0.055638555584577774, value=None), FeatureWeight(feature='encoder__x3_40 to 44 yrs', weight=0.0331551085142818, std=0.09835982544125649, value=None), FeatureWeight(feature='encoder__x3_45 to 49 yrs', weight=0.030715996704847832, std=0.10631847459247537, value=None), FeatureWeight(feature='encoder__x0_White, non-Hispanic', weight=0.029424634832556428, std=0.09331201100002273, value=None), FeatureWeight(feature='encoder__x3_35 to 39 yrs', weight=0.028041001630724743, std=0.10105812499307544, value=None), FeatureWeight(feature='encoder__x2_One, Two, Three or More', weight=0.026053339124154598, std=0.14167670076592626, value=None), FeatureWeight(feature='encoder__x2_None', weight=0.020019900304232296, std=0.1371303783439891, value=None), FeatureWeight(feature='encoder__x3_25 to 29 yrs', weight=0.014699876424607027, std=0.09172004405665338, value=None), FeatureWeight(feature='encoder__x3_20 to 24 yrs', weight=0.008988943718500382, std=0.08054945129487417, value=None), FeatureWeight(feature='encoder__x0_Asian, non-Hispanic', weight=0.007944760120572544, std=0.06299728753009441, value=None), FeatureWeight(feature='encoder__x3_15 to 17 yrs', weight=0.007943888150689558, std=0.06162466220051929, value=None), FeatureWeight(feature='encoder__x3_50+ yrs', weight=0.007587110603434243, std=0.10075434546966902, value=None), FeatureWeight(feature='encoder__x3_30 to 34 yrs', weight=0.004084310526362608, std=0.08435145698735622, value=None), FeatureWeight(feature='encoder__x3_18 to 19 yrs', weight=0.003213191666789382, std=0.08408563382054814, value=None), FeatureWeight(feature='encoder__x3_Under 15 yrs', weight=0.0023104119266391656, std=0.07710850568471068, value=None)], remaining=0), decision_tree=None, highlight_spaces=None, transition_features=None, image=None)"
      ]
     },
     "execution_count": 33,
     "metadata": {},
     "output_type": "execute_result"
    }
   ],
   "source": [
    "# important features\n",
    "extracted_features = get_feature_names(gb_pipeline.named_steps[\"features\"])\n",
    "eli5.explain_weights(\n",
    "    gb_pipeline.named_steps['model'], \n",
    "    top=20, \n",
    "    feature_names=extracted_features\n",
    ")"
   ]
  },
  {
   "cell_type": "markdown",
   "id": "28f583cd",
   "metadata": {},
   "source": [
    "## Final Test Set Performance"
   ]
  },
  {
   "cell_type": "code",
   "execution_count": 34,
   "id": "db6e0bec",
   "metadata": {},
   "outputs": [
    {
     "data": {
      "text/plain": [
       "array([[562349,      3],\n",
       "       [ 57035,      0]])"
      ]
     },
     "execution_count": 34,
     "metadata": {},
     "output_type": "execute_result"
    }
   ],
   "source": [
    "# make sure the valid set was not overfit now that we chose a model\n",
    "gb_test_prediction = gb_pipeline.predict(X_test)\n",
    "confusion_matrix(y_test,gb_test_prediction)"
   ]
  },
  {
   "cell_type": "code",
   "execution_count": 35,
   "id": "e1e253cf",
   "metadata": {},
   "outputs": [
    {
     "data": {
      "text/plain": [
       "array([[562145,      1],\n",
       "       [ 57242,      0]])"
      ]
     },
     "execution_count": 35,
     "metadata": {},
     "output_type": "execute_result"
    }
   ],
   "source": [
    "confusion_matrix(y_valid,gb_prediction)"
   ]
  },
  {
   "cell_type": "code",
   "execution_count": 36,
   "id": "f71e95ad",
   "metadata": {},
   "outputs": [
    {
     "data": {
      "text/plain": [
       "{'valid': 0.49999911055135143, 'test': 0.4999973326315191}"
      ]
     },
     "execution_count": 36,
     "metadata": {},
     "output_type": "execute_result"
    }
   ],
   "source": [
    "{\n",
    "    \"valid\": roc_auc_score(y_valid,gb_prediction),\n",
    "    \"test\": roc_auc_score(y_test,gb_test_prediction)\n",
    "}"
   ]
  },
  {
   "cell_type": "code",
   "execution_count": 37,
   "id": "6635b418",
   "metadata": {},
   "outputs": [],
   "source": [
    "pickle.dump(gb_pipeline, open('/opt/static/estimated.sav', 'wb'))"
   ]
  }
 ],
 "metadata": {
  "kernelspec": {
   "display_name": "Python 3 (ipykernel)",
   "language": "python",
   "name": "python3"
  },
  "language_info": {
   "codemirror_mode": {
    "name": "ipython",
    "version": 3
   },
   "file_extension": ".py",
   "mimetype": "text/x-python",
   "name": "python",
   "nbconvert_exporter": "python",
   "pygments_lexer": "ipython3",
   "version": "3.9.12"
  }
 },
 "nbformat": 4,
 "nbformat_minor": 5
}
